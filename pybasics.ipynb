{
  "cells": [
    {
      "cell_type": "markdown",
      "metadata": {
        "id": "view-in-github",
        "colab_type": "text"
      },
      "source": [
        "<a href=\"https://colab.research.google.com/github/farhansarguroh/Python/blob/main/pybasics.ipynb\" target=\"_parent\"><img src=\"https://colab.research.google.com/assets/colab-badge.svg\" alt=\"Open In Colab\"/></a>"
      ]
    },
    {
      "cell_type": "code",
      "source": [
        "def longest_ones(nums, k):\n",
        "  pass\n",
        "\n",
        "nums = [1, 1, 1, 0, 0, 0, 1, 1, 1, 1, 0]\n",
        "k = 2\n",
        "longest_ones(nums, k)"
      ],
      "metadata": {
        "id": "I-bQoOcjlMVs"
      },
      "execution_count": 1,
      "outputs": []
    },
    {
      "cell_type": "code",
      "execution_count": null,
      "metadata": {
        "id": "bwqFg_DFFkVp"
      },
      "outputs": [],
      "source": [
        "#Fibonacci sequenxce\n",
        "def fib(n):\n",
        "  a, b = 0, 1\n",
        "  while a < n:\n",
        "    print(a, end=',')\n",
        "    a, b = b, a+b\n",
        "  print()"
      ]
    },
    {
      "cell_type": "code",
      "execution_count": null,
      "metadata": {
        "colab": {
          "base_uri": "https://localhost:8080/"
        },
        "id": "Pv7CIo9WGC3N",
        "outputId": "4622a966-f4fb-49dd-c83a-0ca532fb3207"
      },
      "outputs": [
        {
          "name": "stdout",
          "output_type": "stream",
          "text": [
            "john 4\n",
            "merry 5\n",
            "tom 3\n"
          ]
        }
      ],
      "source": [
        "names = ['john', 'merry', 'tom']\n",
        "for i in names:\n",
        "  print(i, len(i))"
      ]
    },
    {
      "cell_type": "code",
      "execution_count": null,
      "metadata": {
        "id": "1lSYiI1MGVZP"
      },
      "outputs": [],
      "source": [
        "users = {'Hans': 'active', 'Éléonore': 'inactive', '景太郎': 'active'}\n",
        "\n",
        "for user, status in users.copy().items():\n",
        "  if status == 'inactive':\n",
        "    del users[user]"
      ]
    },
    {
      "cell_type": "code",
      "execution_count": null,
      "metadata": {
        "colab": {
          "base_uri": "https://localhost:8080/"
        },
        "id": "7T7XFYNeHKZr",
        "outputId": "8bec007f-88b7-4ec1-f3bd-bfcda6f2c7ad"
      },
      "outputs": [
        {
          "name": "stdout",
          "output_type": "stream",
          "text": [
            "Hans\n",
            "景太郎\n"
          ]
        }
      ],
      "source": [
        "for user, status in users.items():\n",
        "  if status == 'active':\n",
        "    print(user)"
      ]
    },
    {
      "cell_type": "code",
      "execution_count": null,
      "metadata": {
        "colab": {
          "base_uri": "https://localhost:8080/"
        },
        "id": "kB-wEl9vHYqZ",
        "outputId": "947c33ba-6a00-4ba2-905a-a8276d3979b7"
      },
      "outputs": [
        {
          "name": "stdout",
          "output_type": "stream",
          "text": [
            "0 Mary\n",
            "1 had\n",
            "2 a\n",
            "3 little\n",
            "4 lamb\n"
          ]
        }
      ],
      "source": [
        "a = ['Mary', 'had', 'a', 'little', 'lamb']\n",
        "\n",
        "for i in range(len(a)):\n",
        "  print(i, a[i])"
      ]
    },
    {
      "cell_type": "code",
      "execution_count": null,
      "metadata": {
        "colab": {
          "base_uri": "https://localhost:8080/"
        },
        "id": "uu3ZQizyHjaU",
        "outputId": "f105ca1f-b49d-439d-a242-4e7b929ec601"
      },
      "outputs": [
        {
          "name": "stdout",
          "output_type": "stream",
          "text": [
            "20\n",
            "60\n",
            "20 equals 2 * 10\n",
            "21 equals 3 * 7\n",
            "22 equals 2 * 11\n",
            "23 is a prime number\n",
            "24 equals 2 * 12\n",
            "25 equals 5 * 5\n",
            "26 equals 2 * 13\n",
            "27 equals 3 * 9\n",
            "28 equals 2 * 14\n",
            "29 is a prime number\n",
            "30 equals 2 * 15\n",
            "31 is a prime number\n",
            "32 equals 2 * 16\n",
            "33 equals 3 * 11\n",
            "34 equals 2 * 17\n",
            "35 equals 5 * 7\n",
            "36 equals 2 * 18\n",
            "37 is a prime number\n",
            "38 equals 2 * 19\n",
            "39 equals 3 * 13\n",
            "40 equals 2 * 20\n",
            "41 is a prime number\n",
            "42 equals 2 * 21\n",
            "43 is a prime number\n",
            "44 equals 2 * 22\n",
            "45 equals 3 * 15\n",
            "46 equals 2 * 23\n",
            "47 is a prime number\n",
            "48 equals 2 * 24\n",
            "49 equals 7 * 7\n",
            "50 equals 2 * 25\n",
            "51 equals 3 * 17\n",
            "52 equals 2 * 26\n",
            "53 is a prime number\n",
            "54 equals 2 * 27\n",
            "55 equals 5 * 11\n",
            "56 equals 2 * 28\n",
            "57 equals 3 * 19\n",
            "58 equals 2 * 29\n",
            "59 is a prime number\n"
          ]
        }
      ],
      "source": [
        "#prime number program\n",
        "\n",
        "def prime_num(x, y):\n",
        "  for n in range(x, y):\n",
        "    for i in range(2, n):\n",
        "      if n % i == 0:\n",
        "       print(n, 'equals',i , \"*\", n//i)\n",
        "       break\n",
        "    else:\n",
        "      print(n, \"is a prime number\")\n",
        "\n",
        "a = int(input())\n",
        "b = int(input())\n",
        "prime_num(a, b)"
      ]
    },
    {
      "cell_type": "code",
      "execution_count": null,
      "metadata": {
        "colab": {
          "base_uri": "https://localhost:8080/"
        },
        "id": "AkgcRZHhJD1l",
        "outputId": "3e2a69ff-588b-44d8-802c-1f3721bfaf9b"
      },
      "outputs": [
        {
          "name": "stdout",
          "output_type": "stream",
          "text": [
            "2 is even\n",
            "3 is odd\n",
            "4 is even\n",
            "5 is odd\n",
            "6 is even\n",
            "7 is odd\n",
            "8 is even\n",
            "9 is odd\n"
          ]
        }
      ],
      "source": [
        "#odd even program\n",
        "for i in range(2,10):\n",
        "  if i%2 == 0:\n",
        "    print(i, \"is even\")\n",
        "    continue\n",
        "  print(i, \"is odd\")"
      ]
    },
    {
      "cell_type": "code",
      "execution_count": null,
      "metadata": {
        "colab": {
          "base_uri": "https://localhost:8080/",
          "height": 36
        },
        "id": "xWgTIe3UJzNS",
        "outputId": "2477297d-17fd-4590-f675-6dcc78584ef4"
      },
      "outputs": [
        {
          "data": {
            "application/vnd.google.colaboratory.intrinsic+json": {
              "type": "string"
            },
            "text/plain": [
              "'Not found'"
            ]
          },
          "execution_count": 15,
          "metadata": {},
          "output_type": "execute_result"
        }
      ],
      "source": [
        "def http_error(status):\n",
        "    match status:\n",
        "        case 400:\n",
        "            return \"Bad request\"\n",
        "        case 404:\n",
        "            return \"Not found\"\n",
        "        case 418:\n",
        "            return \"I'm a teapot\"\n",
        "        case _:\n",
        "            return \"Something's wrong with the internet\"\n",
        "\n",
        "http_error(404)"
      ]
    },
    {
      "cell_type": "code",
      "execution_count": null,
      "metadata": {
        "id": "Q4n2cDEtOn0G"
      },
      "outputs": [],
      "source": [
        "def verify_point(a, b):\n",
        "  point = a, b\n",
        "  match point:\n",
        "    case (0, 0):\n",
        "        print(\"Origin\")\n",
        "    case (0, y):\n",
        "        print(f\"Y={y}\")\n",
        "    case (x, 0):\n",
        "        print(f\"X={x}\")\n",
        "    case (x, y):\n",
        "        print(f\"X={x}, Y={y}\")\n",
        "    case _:\n",
        "        raise ValueError(\"Not a point\")\n",
        "\n",
        "v_pt = verify_point"
      ]
    },
    {
      "cell_type": "code",
      "execution_count": null,
      "metadata": {
        "colab": {
          "base_uri": "https://localhost:8080/"
        },
        "id": "4cqfwGNJO0p8",
        "outputId": "26743e13-0544-4d51-ea85-2bacf78718ba"
      },
      "outputs": [
        {
          "name": "stdout",
          "output_type": "stream",
          "text": [
            "are you ok farhan? \n",
            "no\n"
          ]
        },
        {
          "data": {
            "text/plain": [
              "False"
            ]
          },
          "execution_count": 40,
          "metadata": {},
          "output_type": "execute_result"
        }
      ],
      "source": [
        "def ask_ok(prompt, retries=4, reminder='Please try again!'):\n",
        "    while True:\n",
        "        reply = input(prompt)\n",
        "        if reply in {'y', 'ye', 'yes'}:\n",
        "            return True\n",
        "        if reply in {'n', 'no', 'nop', 'nope'}:\n",
        "            return False\n",
        "        retries = retries - 1\n",
        "        if retries < 0:\n",
        "            raise ValueError('invalid user response')\n",
        "        print(reminder)\n",
        "\n",
        "ask_ok(\"are you ok farhan? \\n\")"
      ]
    },
    {
      "cell_type": "code",
      "execution_count": null,
      "metadata": {
        "colab": {
          "base_uri": "https://localhost:8080/"
        },
        "id": "hrmZKyI1rdj2",
        "outputId": "e4d0546f-973a-453c-bc2f-55b61091a70d"
      },
      "outputs": [
        {
          "data": {
            "text/plain": [
              "[0, 1, 4, 9, 16, 25, 36, 49, 64, 81]"
            ]
          },
          "execution_count": 42,
          "metadata": {},
          "output_type": "execute_result"
        }
      ],
      "source": [
        "squares = list(map(lambda x: x**2, range(10)))\n",
        "squares"
      ]
    },
    {
      "cell_type": "code",
      "execution_count": null,
      "metadata": {
        "colab": {
          "base_uri": "https://localhost:8080/"
        },
        "id": "sBWJJh8ErsAi",
        "outputId": "fceb78a1-83d2-4880-b420-1f773fe0c2b1"
      },
      "outputs": [
        {
          "data": {
            "text/plain": [
              "[0, 1, 4, 9, 16, 25, 36, 49, 64, 81]"
            ]
          },
          "execution_count": 43,
          "metadata": {},
          "output_type": "execute_result"
        }
      ],
      "source": [
        "[x**2 for x in range(10)]"
      ]
    },
    {
      "cell_type": "code",
      "execution_count": null,
      "metadata": {
        "id": "QwJ7mN6isKiw"
      },
      "outputs": [],
      "source": [
        "vec = [-4, -1, 0, 2, 4]"
      ]
    },
    {
      "cell_type": "code",
      "execution_count": null,
      "metadata": {
        "colab": {
          "base_uri": "https://localhost:8080/"
        },
        "id": "1wGXL_y5sc47",
        "outputId": "2d6adb39-ea43-4128-d090-119d37911bbf"
      },
      "outputs": [
        {
          "data": {
            "text/plain": [
              "[4, 2, 0, 2, 4]"
            ]
          },
          "execution_count": 8,
          "metadata": {},
          "output_type": "execute_result"
        }
      ],
      "source": [
        "[abs(x) for x in vec]"
      ]
    },
    {
      "cell_type": "code",
      "execution_count": null,
      "metadata": {
        "id": "qt0vCWbXttc6"
      },
      "outputs": [],
      "source": [
        "def mysum(my_list):\n",
        "  total = 0\n",
        "  for i in my_list:\n",
        "    total += i\n",
        "  return total"
      ]
    },
    {
      "cell_type": "code",
      "execution_count": null,
      "metadata": {
        "id": "M9xDjv90uDTo"
      },
      "outputs": [],
      "source": [
        "def mymax(my_list):\n",
        "  max = 0\n",
        "  for i in my_list:\n",
        "    if i > max:\n",
        "      max = i\n",
        "  return max"
      ]
    },
    {
      "cell_type": "code",
      "execution_count": null,
      "metadata": {
        "id": "MW-Ay5VvDu3R"
      },
      "outputs": [],
      "source": [
        "def mymin(my_list):\n",
        "  min = my_list[0]\n",
        "  for i in my_list:\n",
        "    if i < min:\n",
        "      min = i\n",
        "  return min"
      ]
    },
    {
      "cell_type": "code",
      "execution_count": null,
      "metadata": {
        "colab": {
          "base_uri": "https://localhost:8080/"
        },
        "id": "Q_ZlpurpDYck",
        "outputId": "bea2b005-5934-4c32-a969-1df4b61795da"
      },
      "outputs": [
        {
          "data": {
            "text/plain": [
              "[[1, 5, 9], [2, 6, 10], [3, 7, 11], [4, 8, 12]]"
            ]
          },
          "execution_count": 2,
          "metadata": {},
          "output_type": "execute_result"
        }
      ],
      "source": [
        "matrix = [\n",
        "    [1, 2, 3, 4],\n",
        "    [5, 6, 7, 8],\n",
        "    [9, 10, 11, 12],\n",
        "]\n",
        "\n",
        "[[row[i] for row in matrix] for i in range(4)]"
      ]
    },
    {
      "cell_type": "code",
      "execution_count": null,
      "metadata": {
        "colab": {
          "base_uri": "https://localhost:8080/"
        },
        "id": "SU2XUlf_Q_hh",
        "outputId": "1f2a86e3-020d-4a51-aeb2-b22159230298"
      },
      "outputs": [
        {
          "name": "stdout",
          "output_type": "stream",
          "text": [
            "Sjoerd     ==> 4126789012347\n",
            "Jack       ==>       4098\n",
            "Dcab       ==>       7678\n"
          ]
        }
      ],
      "source": [
        "table = {'Sjoerd': 4126789012347, 'Jack': 4098, 'Dcab': 7678}\n",
        "for name, phone in table.items():\n",
        "    print(f'{name:10} ==> {phone:10d}')"
      ]
    },
    {
      "cell_type": "code",
      "execution_count": null,
      "metadata": {
        "colab": {
          "base_uri": "https://localhost:8080/"
        },
        "id": "XwetMrhUXFzW",
        "outputId": "3da20c9b-fd58-4e14-97cf-27b0e8e3fe4a"
      },
      "outputs": [
        {
          "name": "stdout",
          "output_type": "stream",
          "text": [
            "The value of pi is approximately 3.14159.\n"
          ]
        }
      ],
      "source": [
        "import math\n",
        "print('The value of pi is approximately %5.5f.' % math.pi)"
      ]
    },
    {
      "cell_type": "code",
      "execution_count": null,
      "metadata": {
        "colab": {
          "base_uri": "https://localhost:8080/"
        },
        "id": "dBLe0mkALR7v",
        "outputId": "0896fee2-f2bc-454c-e469-265a2a90376b"
      },
      "outputs": [
        {
          "name": "stdout",
          "output_type": "stream",
          "text": [
            "1 0o1\n",
            "2 0o2\n",
            "3 0o3\n",
            "4 0o4\n",
            "5 0o5\n",
            "6 0o6\n",
            "7 0o7\n",
            "8 0o10\n",
            "9 0o11\n",
            "10 0o12\n",
            "11 0o13\n",
            "12 0o14\n",
            "13 0o15\n",
            "14 0o16\n",
            "15 0o17\n",
            "16 0o20\n"
          ]
        }
      ],
      "source": [
        "number = 17\n",
        "for x in range (1, number):\n",
        "        print(x, oct(x))"
      ]
    },
    {
      "cell_type": "code",
      "execution_count": null,
      "metadata": {
        "id": "cEnRvJztOn15"
      },
      "outputs": [],
      "source": [
        "def octal(n):\n",
        "  for i in range(1, n):\n",
        "    print(i)"
      ]
    },
    {
      "cell_type": "code",
      "execution_count": null,
      "metadata": {
        "id": "bKelesu4wwlN"
      },
      "outputs": [],
      "source": [
        "def first_char_capital(s):\n",
        "    result = ' '.join(word[0].upper() + word[1:] for word in s.split())\n",
        "    print(result)"
      ]
    },
    {
      "cell_type": "code",
      "execution_count": null,
      "metadata": {
        "id": "h4PRE-o04Xzm"
      },
      "outputs": [],
      "source": [
        "def swap(input_str):\n",
        "    swapped_chars = []\n",
        "\n",
        "    for char in input_str:\n",
        "        if char.isupper():\n",
        "            swapped_chars.append(char.lower())\n",
        "        elif char.islower():\n",
        "            swapped_chars.append(char.upper())\n",
        "        else:\n",
        "            swapped_chars.append(char)\n",
        "\n",
        "    print(''.join(swapped_chars))"
      ]
    },
    {
      "cell_type": "code",
      "execution_count": null,
      "metadata": {
        "id": "LRnCFi236cAt"
      },
      "outputs": [],
      "source": [
        "import string\n",
        "\n",
        "def remove_punctuation(input_string):\n",
        "    translator = str.maketrans(\"\", \"\", string.punctuation)\n",
        "    result = input_string.translate(translator)\n",
        "    return result"
      ]
    },
    {
      "cell_type": "code",
      "execution_count": null,
      "metadata": {
        "id": "2UonwLdq8QmE"
      },
      "outputs": [],
      "source": [
        "def merger(input):\n",
        "  splitted = []\n",
        "  for i in input:\n",
        "    splitted.append(len[i])\n",
        "\n",
        "  return splitted\n",
        "  pass"
      ]
    },
    {
      "cell_type": "code",
      "execution_count": null,
      "metadata": {
        "colab": {
          "base_uri": "https://localhost:8080/"
        },
        "id": "ukWk_6118cha",
        "outputId": "b415da63-57e1-42df-a760-e4d8ec7e87ab"
      },
      "outputs": [
        {
          "data": {
            "text/plain": [
              "['A', 'A', 'B', 'C', 'A', 'A', 'A', 'D', 'A']"
            ]
          },
          "execution_count": 110,
          "metadata": {},
          "output_type": "execute_result"
        }
      ],
      "source": [
        "merger('AABCAAADA')"
      ]
    },
    {
      "cell_type": "code",
      "execution_count": null,
      "metadata": {
        "id": "-xvqS3iVRXO-"
      },
      "outputs": [],
      "source": [
        "def x_int_inputs():\n",
        "  x = list(map(int, input().split()))\n",
        "  return x"
      ]
    },
    {
      "cell_type": "code",
      "execution_count": null,
      "metadata": {
        "colab": {
          "base_uri": "https://localhost:8080/"
        },
        "id": "aIUWv0RjRuAb",
        "outputId": "01e92f7c-c29f-416f-fcec-163e9dc458db"
      },
      "outputs": [
        {
          "name": "stdout",
          "output_type": "stream",
          "text": [
            "1 2 3 4 45 5 5 6 8 45 \n"
          ]
        }
      ],
      "source": [
        "x = x_int_inputs()\n",
        "ans = [i for i in x if i == 8]"
      ]
    },
    {
      "cell_type": "code",
      "execution_count": null,
      "metadata": {
        "colab": {
          "base_uri": "https://localhost:8080/"
        },
        "id": "7hnDjvOxXGSi",
        "outputId": "da836c34-1e5d-4fbb-a6e3-fb398edf06f3"
      },
      "outputs": [
        {
          "name": "stdout",
          "output_type": "stream",
          "text": [
            "2\n",
            "3\n",
            " 1\n",
            " 2\n",
            " 3\n",
            "5\n",
            " 4\n",
            " 5\n",
            " 6\n",
            " 7\n",
            " 8\n",
            "{'3', '2', '1'} {'8', '5', '6', '7', '4'}\n"
          ]
        }
      ],
      "source": [
        "# Enter your code here. Read input from STDIN. Print output to STDOUT\n",
        "num_of_sets = int(input())\n",
        "\n",
        "num_elements_in_set_a = int(input())\n",
        "elements_a = list(map(int, input().split()))\n",
        "num_elements_in_set_b = int(input())\n",
        "elements_b = list(map(int, input().split()))\n",
        "\n",
        "print(elements_a, elements_b)"
      ]
    },
    {
      "cell_type": "code",
      "execution_count": null,
      "metadata": {
        "colab": {
          "base_uri": "https://localhost:8080/"
        },
        "id": "Tl7ttR_eaEjC",
        "outputId": "85e32648-24f6-42ef-e9e3-247c2ab40224"
      },
      "outputs": [
        {
          "name": "stdout",
          "output_type": "stream",
          "text": [
            "1\n",
            "3\n",
            "1 2 3\n",
            "2\n",
            "1 2\n",
            "False\n"
          ]
        }
      ],
      "source": [
        "num_test_cases = int(input())\n",
        "outputs = []\n",
        "\n",
        "for i in range(num_test_cases):\n",
        "    num_elements_in_set_a = int(input())\n",
        "    elements_a = set(map(int, input().split()))\n",
        "\n",
        "    num_elements_in_set_b = int(input())\n",
        "    elements_b = set(map(int, input().split()))\n",
        "\n",
        "    if len(elements_a) < len(elements_b):\n",
        "      if elements_a & elements_b:\n",
        "        outputs.append(\"True\")\n",
        "      else:\n",
        "        outputs.append(\"False\")\n",
        "    else:\n",
        "      outputs.append(\"False\")\n",
        "\n",
        "# Print all the outputs after the loop\n",
        "for output in outputs:\n",
        "    print(output)"
      ]
    },
    {
      "cell_type": "code",
      "execution_count": null,
      "metadata": {
        "colab": {
          "base_uri": "https://localhost:8080/"
        },
        "id": "ts-lbgNHj9u2",
        "outputId": "f67e97ee-f49b-497d-a488-0cde74627b4c"
      },
      "outputs": [
        {
          "name": "stdout",
          "output_type": "stream",
          "text": [
            "1 2 3 4 5 6 7\n",
            "2\n",
            "1 2 3\n",
            "4 5 6 7\n",
            "True\n"
          ]
        }
      ],
      "source": [
        "elements_a = set(map(int, input().split()))\n",
        "\n",
        "num_test_cases = int(input())\n",
        "result = []\n",
        "\n",
        "for i in range(num_test_cases):\n",
        "    elements = set(map(int, input().split()))\n",
        "    if elements_a.issuperset(elements):\n",
        "      result.append(True)\n",
        "    else:\n",
        "      result.append(False)\n",
        "\n",
        "if False in result:\n",
        "  print(False)\n",
        "else:\n",
        "  print(True)"
      ]
    },
    {
      "cell_type": "code",
      "execution_count": null,
      "metadata": {
        "id": "dlDvlsU39A1J"
      },
      "outputs": [],
      "source": [
        "def top_three(in_str):\n",
        "    count = {}\n",
        "    for i in in_str:\n",
        "        count[i] = count.get(i, 0) + 1\n",
        "    sorted_items = sorted(count.items(), key=lambda x: (-x[1], x[0]))\n",
        "    top_three_keys = [item[0] for item in sorted_items[:3]]\n",
        "    top_three_values = [item[1] for item in sorted_items[:3]]\n",
        "\n",
        "    # Print the top three keys and values\n",
        "    for key, value in zip(top_three_keys, top_three_values):\n",
        "        print(f\"{key} {value}\")"
      ]
    },
    {
      "cell_type": "code",
      "execution_count": null,
      "metadata": {
        "colab": {
          "base_uri": "https://localhost:8080/"
        },
        "id": "J56GoG6CC-7M",
        "outputId": "9ec70a94-32d3-4a25-ca20-f130e6156e16"
      },
      "outputs": [
        {
          "name": "stdout",
          "output_type": "stream",
          "text": [
            "Least number of perfect square numbers that sum to 12 : 3\n"
          ]
        }
      ],
      "source": [
        "def num_squares(n):\n",
        "    # Initialize a list to store the least number of perfect square numbers required to sum up to each index\n",
        "    dp = [float('inf')] * (n + 1)\n",
        "    dp[0] = 0  # Base case\n",
        "\n",
        "    # Iterate through each number from 1 to n\n",
        "    for i in range(1, n + 1):\n",
        "        # Check all perfect square numbers less than or equal to i\n",
        "        j = 1\n",
        "        while j * j <= i:\n",
        "            dp[i] = min(dp[i], dp[i - j * j] + 1)\n",
        "            j += 1\n",
        "\n",
        "    return dp[n]"
      ]
    },
    {
      "cell_type": "code",
      "execution_count": null,
      "metadata": {
        "id": "Qv-Ew-NgG0q5"
      },
      "outputs": [],
      "source": [
        "def x_str_inputs():\n",
        "  x = list(map(str, input().split()))\n",
        "  return x"
      ]
    },
    {
      "cell_type": "code",
      "execution_count": null,
      "metadata": {
        "id": "SLjTikD3H52R"
      },
      "outputs": [],
      "source": [
        "def count(input):\n",
        "  count = {}\n",
        "  for i in input:\n",
        "    count[i] = count.get(i, 0) + 1\n",
        "  print(count)"
      ]
    },
    {
      "cell_type": "code",
      "execution_count": null,
      "metadata": {
        "id": "fQqNzGq1WspI"
      },
      "outputs": [],
      "source": [
        "def word_order(num):\n",
        "  strings = []\n",
        "\n",
        "  for _ in range(num):\n",
        "    strings.append(input())\n",
        "\n",
        "  counts = {}\n",
        "\n",
        "  for string in strings:\n",
        "    counts[string] = counts.get(string, 0) + 1\n",
        "\n",
        "  print(len(counts))\n",
        "  print(\" \".join(str(count) for count in counts.values()))"
      ]
    },
    {
      "cell_type": "code",
      "execution_count": null,
      "metadata": {
        "colab": {
          "base_uri": "https://localhost:8080/"
        },
        "id": "hJeNrgGNfG6a",
        "outputId": "de24f74e-79d2-41e7-ccc7-756943a1a599"
      },
      "outputs": [
        {
          "name": "stdout",
          "output_type": "stream",
          "text": [
            "1222311\n",
            "(1, 1) (3, 2) (1, 3) (2, 1)\n"
          ]
        }
      ],
      "source": [
        "input_string = input()\n",
        "output_string = ' '.join(f\"({count}, {digit})\" for digit, count in  [(int(key), len(list(group))) for key, group in groupby(input_string)])\n",
        "print(output_string)"
      ]
    },
    {
      "cell_type": "code",
      "execution_count": null,
      "metadata": {
        "colab": {
          "base_uri": "https://localhost:8080/"
        },
        "id": "XCt8yGKhhLvq",
        "outputId": "0eb14747-4bc5-4ea0-99b2-a8049179cf8f"
      },
      "outputs": [
        {
          "name": "stdout",
          "output_type": "stream",
          "text": [
            "aabbccddee\n"
          ]
        },
        {
          "data": {
            "text/plain": [
              "[('a', 2), ('b', 2), ('c', 2), ('d', 2), ('e', 2)]"
            ]
          },
          "execution_count": 66,
          "metadata": {},
          "output_type": "execute_result"
        }
      ],
      "source": [
        "from itertools import groupby\n",
        "input_string = input()\n",
        "grouped_elements = [((key), len(list(group))) for key, group in groupby(input_string)]\n",
        "grouped_elements"
      ]
    },
    {
      "cell_type": "code",
      "execution_count": null,
      "metadata": {
        "colab": {
          "base_uri": "https://localhost:8080/"
        },
        "id": "c5aGaw45hBn2",
        "outputId": "86f60f2d-8f2a-4f4a-ebc6-eec68b6ce878"
      },
      "outputs": [
        {
          "data": {
            "text/plain": [
              "<itertools.permutations at 0x77fd95de5940>"
            ]
          },
          "execution_count": 4,
          "metadata": {},
          "output_type": "execute_result"
        }
      ],
      "source": [
        "from itertools import permutations\n",
        "permutations('aacd', 2)"
      ]
    },
    {
      "cell_type": "code",
      "execution_count": null,
      "metadata": {
        "id": "Z9AOpv1qiiyC"
      },
      "outputs": [],
      "source": [
        "def is_palindrome(x):\n",
        "  if x == x[::-1]:\n",
        "    return True\n",
        "  else:\n",
        "    return False"
      ]
    },
    {
      "cell_type": "code",
      "execution_count": null,
      "metadata": {
        "colab": {
          "base_uri": "https://localhost:8080/"
        },
        "id": "kPwPkTBms3Gc",
        "outputId": "c178759d-662c-4275-ac40-af40058257d8"
      },
      "outputs": [
        {
          "data": {
            "text/plain": [
              "True"
            ]
          },
          "execution_count": 79,
          "metadata": {},
          "output_type": "execute_result"
        }
      ],
      "source": [
        "is_palindrome([1,2,1])"
      ]
    },
    {
      "cell_type": "code",
      "execution_count": null,
      "metadata": {
        "id": "SjCBNz8WQUwO"
      },
      "outputs": [],
      "source": [
        "new_string = s.translate(str.maketrans('', '', string.punctuation))"
      ]
    },
    {
      "cell_type": "code",
      "execution_count": null,
      "metadata": {
        "id": "lrRemFBIZ1cL"
      },
      "outputs": [],
      "source": [
        "def isPalindromestr(s):\n",
        "  s = ''.join(ch.lower() for ch in s if ch.isalnum())\n",
        "  left, right = 0, len(s) - 1\n",
        "\n",
        "  while left < right:\n",
        "    if s[left] != s[right]:\n",
        "      return False\n",
        "    left += 1\n",
        "    right -= 1\n",
        "\n",
        "  return True\n"
      ]
    },
    {
      "cell_type": "code",
      "execution_count": null,
      "metadata": {
        "id": "h32sPv2KTsye"
      },
      "outputs": [],
      "source": [
        "x =  \"A man, a plan, a canal: Panama\""
      ]
    },
    {
      "cell_type": "code",
      "execution_count": null,
      "metadata": {
        "colab": {
          "base_uri": "https://localhost:8080/"
        },
        "id": "Zyvhvhh8p3p7",
        "outputId": "c9f728b8-39f7-436a-b875-3b4419845e40"
      },
      "outputs": [
        {
          "data": {
            "text/plain": [
              "True"
            ]
          },
          "execution_count": 76,
          "metadata": {},
          "output_type": "execute_result"
        }
      ],
      "source": [
        "isPalindromestr(x)"
      ]
    },
    {
      "cell_type": "code",
      "execution_count": null,
      "metadata": {
        "colab": {
          "base_uri": "https://localhost:8080/"
        },
        "id": "bXtH-jCojsOm",
        "outputId": "c63fd3da-f5ae-49d8-a2cc-97ecf5ed935e"
      },
      "outputs": [
        {
          "name": "stdout",
          "output_type": "stream",
          "text": [
            "true\n"
          ]
        }
      ],
      "source": [
        "sample_str = 'abdba'\n",
        "list1 = []\n",
        "list2 = []\n",
        "\n",
        "for i in range(0, len(sample_str)):\n",
        "    list1.append(sample_str[i])\n",
        "\n",
        "for i in range(len(sample_str)-1, -1, -1):\n",
        "    list2.append(sample_str[i])\n",
        "\n",
        "if list1 == list2:\n",
        "  print(\"true\")\n",
        "else:\n",
        "  print(\"false\")"
      ]
    },
    {
      "cell_type": "code",
      "execution_count": null,
      "metadata": {
        "id": "GzssU8_Mn6mv"
      },
      "outputs": [],
      "source": [
        "def sqrt(x):\n",
        "  for i in range(1, x+1):\n",
        "    for j in range(1, x+1):\n",
        "      if i == j and i*j == x:\n",
        "        print(i)\n",
        "      elif i != j and i*j ==x:\n",
        "        print(i, j)"
      ]
    },
    {
      "cell_type": "code",
      "execution_count": null,
      "metadata": {
        "colab": {
          "base_uri": "https://localhost:8080/"
        },
        "id": "w13_elwloBVg",
        "outputId": "1ab52415-330b-414b-ca48-a75dd5ddd28c"
      },
      "outputs": [
        {
          "name": "stdout",
          "output_type": "stream",
          "text": [
            "1 4\n",
            "2\n",
            "4 1\n"
          ]
        }
      ],
      "source": [
        "sqrt(4)"
      ]
    },
    {
      "cell_type": "code",
      "execution_count": null,
      "metadata": {
        "id": "gWL2d4NN1qJ-"
      },
      "outputs": [],
      "source": [
        "#for normal list\n",
        "def remove_duplicates(x):\n",
        "    if len(x) == 0:\n",
        "        return []\n",
        "\n",
        "    result_list = [x[0]]\n",
        "    for i in range(1, len(x)):\n",
        "        if x[i] != x[i - 1]:\n",
        "            result_list.append(x[i])\n",
        "\n",
        "    return result_list\n"
      ]
    },
    {
      "cell_type": "code",
      "execution_count": null,
      "metadata": {
        "colab": {
          "base_uri": "https://localhost:8080/"
        },
        "id": "JhjyxQBb16Dl",
        "outputId": "12b02960-7158-4971-bb88-f82029808a98"
      },
      "outputs": [
        {
          "data": {
            "text/plain": [
              "[1, 2, 3, 4]"
            ]
          },
          "execution_count": 53,
          "metadata": {},
          "output_type": "execute_result"
        }
      ],
      "source": [
        "x = [1, 1, 2, 3, 4]\n",
        "remove_duplicates(x)"
      ]
    },
    {
      "cell_type": "code",
      "execution_count": null,
      "metadata": {
        "id": "Fbt2cXJw7eD4"
      },
      "outputs": [],
      "source": [
        "# for ListNode\n",
        "# Definition for singly-linked list.\n",
        "class ListNode(object):\n",
        "     def __init__(self, val=0, next=None):\n",
        "         self.val = val\n",
        "         self.next = next\n",
        "class Solution(object):\n",
        "    def deleteDuplicates(self, head):\n",
        "        \"\"\"\n",
        "        :type head: ListNode\n",
        "        :rtype: ListNode\n",
        "        \"\"\"\n",
        "        if not head:\n",
        "            return None\n",
        "\n",
        "        current = head\n",
        "        while current.next:\n",
        "            if current.val == current.next.val:\n",
        "                current.next = current.next.next\n",
        "            else:\n",
        "                current = current.next\n",
        "        return head\n"
      ]
    },
    {
      "cell_type": "code",
      "execution_count": null,
      "metadata": {
        "colab": {
          "base_uri": "https://localhost:8080/"
        },
        "id": "dacUYRXbxId9",
        "outputId": "f554a9e0-7b94-47c2-dce0-c59422516300"
      },
      "outputs": [
        {
          "name": "stdout",
          "output_type": "stream",
          "text": [
            "cannot be\n",
            "can be planted\n",
            "can be planted\n",
            "can be planted\n",
            "cannot be\n"
          ]
        }
      ],
      "source": [
        "flowerbed = [1,0,0,0,1]\n",
        "n = 1 # pending"
      ]
    },
    {
      "cell_type": "code",
      "execution_count": null,
      "metadata": {
        "colab": {
          "base_uri": "https://localhost:8080/"
        },
        "id": "ICEU63Nf5vy0",
        "outputId": "a4967c20-5453-4f15-e9f8-aca291d4e0b1"
      },
      "outputs": [
        {
          "name": "stdout",
          "output_type": "stream",
          "text": [
            "Collecting matlab\n",
            "  Downloading matlab-0.1.tar.gz (538 bytes)\n",
            "  Preparing metadata (setup.py) ... \u001b[?25l\u001b[?25hdone\n",
            "Building wheels for collected packages: matlab\n",
            "  Building wheel for matlab (setup.py) ... \u001b[?25l\u001b[?25hdone\n",
            "  Created wheel for matlab: filename=matlab-0.1-py3-none-any.whl size=1157 sha256=98df46cbb0b26b609213fb8c47388a63c3dc24653cfe06fc62b47b9cfec42e6f\n",
            "  Stored in directory: /root/.cache/pip/wheels/d1/d3/76/5314058ee22e7957a18eec0291788462f1df178bb08223bdd2\n",
            "Successfully built matlab\n",
            "Installing collected packages: matlab\n",
            "Successfully installed matlab-0.1\n"
          ]
        }
      ],
      "source": [
        "!pip install matlab"
      ]
    },
    {
      "cell_type": "code",
      "execution_count": null,
      "metadata": {
        "id": "af18dN9M5-QP"
      },
      "outputs": [],
      "source": [
        "area = 44"
      ]
    },
    {
      "cell_type": "code",
      "execution_count": null,
      "metadata": {
        "colab": {
          "base_uri": "https://localhost:8080/"
        },
        "id": "sYJ2d5BrOAi9",
        "outputId": "70d5eaa5-e8ca-4133-e5fe-946dba6c814d"
      },
      "outputs": [
        {
          "data": {
            "text/plain": [
              "[37, 1]"
            ]
          },
          "execution_count": 17,
          "metadata": {},
          "output_type": "execute_result"
        }
      ],
      "source": [
        "list_of = [[i, area // i, i - (area // i)] for i in range(1, area + 1) if area % i == 0 and i >= area // i]\n",
        "min(list_of)[:2]"
      ]
    },
    {
      "cell_type": "code",
      "execution_count": null,
      "metadata": {
        "colab": {
          "base_uri": "https://localhost:8080/"
        },
        "id": "ct-LpcO0QTqO",
        "outputId": "781600ee-2257-4aaf-89b3-72493bbb6f02"
      },
      "outputs": [
        {
          "name": "stdout",
          "output_type": "stream",
          "text": [
            "[427, 286]\n"
          ]
        }
      ],
      "source": [
        "# Define the Solution class\n",
        "class Solution:\n",
        "    def construct_the_rect(self, area):\n",
        "        def mymin(my_list):\n",
        "            min_val = my_list[0]\n",
        "            for i in my_list:\n",
        "                if i < min_val:\n",
        "                    min_val = i\n",
        "            return min_val\n",
        "\n",
        "        list_of = [[i, area // i, i - (area // i)] for i in range(1, area + 1) if area % i == 0 and i >= area // i]\n",
        "        return mymin(list_of)[:2]\n",
        "\n",
        "# Example usage:\n",
        "solution = Solution()  # Create an instance of the Solution class\n",
        "result = solution.construct_the_rect(122122)\n",
        "print(result)\n",
        "\n"
      ]
    },
    {
      "cell_type": "code",
      "execution_count": null,
      "metadata": {
        "id": "Kkx1nW2NVBgB"
      },
      "outputs": [],
      "source": [
        "timeSeries = [1, 4]\n",
        "duration = 2"
      ]
    },
    {
      "cell_type": "code",
      "execution_count": null,
      "metadata": {
        "id": "99oRo4fwXtuv"
      },
      "outputs": [],
      "source": [
        "def poison_duration(timeSeries, duration):\n",
        "    if not timeSeries:\n",
        "        return 0\n",
        "\n",
        "    total_duration = duration  # Initialize with the duration of the first poisoning\n",
        "    for i in range(1, len(timeSeries)):\n",
        "        total_duration += min(duration, timeSeries[i] - timeSeries[i - 1])\n",
        "\n",
        "    return total_duration"
      ]
    },
    {
      "cell_type": "code",
      "execution_count": null,
      "metadata": {
        "colab": {
          "base_uri": "https://localhost:8080/"
        },
        "id": "NOv-oItObrV_",
        "outputId": "c6524f6d-8673-481d-978b-7104d4d62727"
      },
      "outputs": [
        {
          "data": {
            "text/plain": [
              "3"
            ]
          },
          "execution_count": 46,
          "metadata": {},
          "output_type": "execute_result"
        }
      ],
      "source": [
        "poison_duration(timeSeries, duration)"
      ]
    },
    {
      "cell_type": "code",
      "execution_count": null,
      "metadata": {
        "id": "5514vGWklv4D"
      },
      "outputs": [],
      "source": [
        "def perfect_num(num):\n",
        "    if num <= 1:\n",
        "        return False\n",
        "\n",
        "    divisor_sum = 1  # Include 1 as a divisor\n",
        "    for i in range(2, int(num**0.5) + 1):\n",
        "        if num % i == 0:\n",
        "            divisor_sum += i\n",
        "            if i != num // i:  # Ensure not to count the same divisor twice\n",
        "                divisor_sum += num // i\n",
        "\n",
        "    return divisor_sum == num"
      ]
    },
    {
      "cell_type": "code",
      "execution_count": null,
      "metadata": {
        "colab": {
          "base_uri": "https://localhost:8080/"
        },
        "id": "YeonISzrl0yP",
        "outputId": "7b0d6c43-f589-4211-d07c-093bbb1c9a6c"
      },
      "outputs": [
        {
          "data": {
            "text/plain": [
              "True"
            ]
          },
          "execution_count": 71,
          "metadata": {},
          "output_type": "execute_result"
        }
      ],
      "source": [
        "perfect_num(28)"
      ]
    },
    {
      "cell_type": "code",
      "execution_count": null,
      "metadata": {
        "id": "qceKaATU1LZ8"
      },
      "outputs": [],
      "source": [
        "nums = [1212, 2222, 333, 1212]"
      ]
    },
    {
      "cell_type": "code",
      "execution_count": null,
      "metadata": {
        "id": "wKBY4_go1Srr"
      },
      "outputs": [],
      "source": [
        "def majorityElement(nums):\n",
        "    count = {}\n",
        "    for i in nums:\n",
        "        count[i] = count.get(i, 0) + 1\n",
        "    return max(count, key=count.get)"
      ]
    },
    {
      "cell_type": "code",
      "execution_count": null,
      "metadata": {
        "id": "GJH1oDFW1WKC"
      },
      "outputs": [],
      "source": [
        "def majorityElement(nums):\n",
        "  candidate = None\n",
        "  count = 0\n",
        "\n",
        "  for num in nums:\n",
        "    if count == 0:\n",
        "      candidate = num\n",
        "    count += 1 if num == candidate else -1\n",
        "\n",
        "  return candidate"
      ]
    },
    {
      "cell_type": "code",
      "execution_count": null,
      "metadata": {
        "colab": {
          "base_uri": "https://localhost:8080/"
        },
        "id": "RUN7v9VknUmb",
        "outputId": "fa8fd013-0fb6-4eca-d1e4-52cb36af34c7"
      },
      "outputs": [
        {
          "data": {
            "text/plain": [
              "333"
            ]
          },
          "execution_count": 5,
          "metadata": {},
          "output_type": "execute_result"
        }
      ],
      "source": [
        "majorityElement(nums)"
      ]
    },
    {
      "cell_type": "code",
      "execution_count": null,
      "metadata": {
        "id": "wYlam8sBoVgX"
      },
      "outputs": [],
      "source": [
        "nums1 = [1,2,3,0,0,0]\n",
        "m = 3\n",
        "nums2 = [1]\n",
        "n = 1"
      ]
    },
    {
      "cell_type": "code",
      "execution_count": null,
      "metadata": {
        "id": "XDibY5eZp6CE"
      },
      "outputs": [],
      "source": [
        "def merge_lists(nums1, m, nums2, n):\n",
        "  return sorted(nums1[:m] + nums2[:n])"
      ]
    },
    {
      "cell_type": "code",
      "execution_count": null,
      "metadata": {
        "id": "u52K5boGkvpC"
      },
      "outputs": [],
      "source": [
        "def merge_lists(nums1, m, nums2, n):\n",
        "    \"\"\"\n",
        "    Merges nums1 and nums2 into nums1 in-place.\n",
        "\n",
        "    :param nums1: First sorted list with space for merging\n",
        "    :param m: Number of elements in nums1\n",
        "    :param nums2: Second sorted list\n",
        "    :param n: Number of elements in nums2\n",
        "    :return: None (nums1 is modified in place)\n",
        "    \"\"\"\n",
        "    # Initialize pointers for nums1 and nums2\n",
        "    p1 = m - 1\n",
        "    p2 = n - 1\n",
        "    # Initialize pointer for the end of merged list\n",
        "    p = m + n - 1\n",
        "\n",
        "    # Merge nums1 and nums2 from the end\n",
        "    while p1 >= 0 and p2 >= 0:\n",
        "        if nums1[p1] > nums2[p2]:\n",
        "            nums1[p] = nums1[p1]\n",
        "            p1 -= 1\n",
        "        else:\n",
        "            nums1[p] = nums2[p2]\n",
        "            p2 -= 1\n",
        "        p -= 1\n",
        "\n",
        "    # If there are remaining elements in nums2, copy them to nums1\n",
        "    nums1[:p2 + 1] = nums2[:p2 + 1]\n"
      ]
    },
    {
      "cell_type": "code",
      "execution_count": null,
      "metadata": {
        "colab": {
          "base_uri": "https://localhost:8080/"
        },
        "id": "7Ai5mG3aqHiA",
        "outputId": "ee3393f2-61e2-4475-cf97-a29db8ab8968"
      },
      "outputs": [
        {
          "name": "stdout",
          "output_type": "stream",
          "text": [
            "[1]\n"
          ]
        }
      ],
      "source": [
        "merge_lists(nums1, m, nums2, n)\n",
        "print(nums2)"
      ]
    },
    {
      "cell_type": "code",
      "execution_count": null,
      "metadata": {
        "id": "5HPQ6J3Et5Js"
      },
      "outputs": [],
      "source": [
        "nums = [0,1,2,2,3,0,4,2]\n",
        "val = 2"
      ]
    },
    {
      "cell_type": "code",
      "execution_count": null,
      "metadata": {
        "id": "wMKOKGiisUTX"
      },
      "outputs": [],
      "source": [
        "def removeElement(nums, val):\n",
        "  return ([i for i in nums if i!=val])"
      ]
    },
    {
      "cell_type": "code",
      "execution_count": null,
      "metadata": {
        "colab": {
          "base_uri": "https://localhost:8080/"
        },
        "id": "tzqW3SsNsz_9",
        "outputId": "54d775dd-ee86-4668-cf23-870148f0de7d"
      },
      "outputs": [
        {
          "data": {
            "text/plain": [
              "5"
            ]
          },
          "execution_count": 45,
          "metadata": {},
          "output_type": "execute_result"
        }
      ],
      "source": [
        "removeElement(nums, val)"
      ]
    },
    {
      "cell_type": "code",
      "execution_count": null,
      "metadata": {
        "id": "lCD2WSCIum_s"
      },
      "outputs": [],
      "source": [
        "def removeElement(nums, val):\n",
        "  new_length = 0\n",
        "\n",
        "  for num in nums:\n",
        "    if num != val:\n",
        "      nums[new_length] = num\n",
        "      new_length += 1\n",
        "\n",
        "  return new_length"
      ]
    },
    {
      "cell_type": "code",
      "execution_count": null,
      "metadata": {
        "id": "wb8p5PvuJnJ0"
      },
      "outputs": [],
      "source": [
        "nums = [1,1,2]"
      ]
    },
    {
      "cell_type": "code",
      "execution_count": null,
      "metadata": {
        "id": "yLSLOCqatJEF"
      },
      "outputs": [],
      "source": [
        "def removeDuplicates(nums):\n",
        "    if not nums:\n",
        "        return 0\n",
        "\n",
        "    k = 1  # Initialize the count of unique elements\n",
        "    for i in range(1, len(nums)):\n",
        "        if nums[i] != nums[i - 1]:\n",
        "            nums[k] = nums[i]  # Move the unique element to the front\n",
        "            k += 1  # Increment the count of unique elements\n",
        "\n",
        "    return k, nums[:k]"
      ]
    },
    {
      "cell_type": "code",
      "execution_count": null,
      "metadata": {
        "colab": {
          "base_uri": "https://localhost:8080/"
        },
        "id": "_CWPPT-6Jo2N",
        "outputId": "bcdfbaa3-0fa7-41fd-dd25-c8f6058c13e2"
      },
      "outputs": [
        {
          "data": {
            "text/plain": [
              "(2, [1, 2])"
            ]
          },
          "execution_count": 28,
          "metadata": {},
          "output_type": "execute_result"
        }
      ],
      "source": [
        "removeDuplicates([1, 1, 2])"
      ]
    },
    {
      "cell_type": "code",
      "execution_count": null,
      "metadata": {
        "id": "j2T0qBPM8fSP"
      },
      "outputs": [],
      "source": [
        "def sqrt(x):\n",
        "  if x == 0 or x == 1:\n",
        "    return x\n",
        "\n",
        "  result = 0\n",
        "  for i in range(1, x):\n",
        "    if i * i == x:\n",
        "      result = i\n",
        "    for j in range(1, 10):\n",
        "      if round((i + (0.1 * j))*(i + (0.1 * j))) == x:\n",
        "        result = i\n",
        "  return result\n"
      ]
    },
    {
      "cell_type": "code",
      "execution_count": null,
      "metadata": {
        "colab": {
          "base_uri": "https://localhost:8080/"
        },
        "id": "9V7dn-gI_A2D",
        "outputId": "93be070c-7f5c-43fb-d032-d4a254cb6a92"
      },
      "outputs": [
        {
          "name": "stdout",
          "output_type": "stream",
          "text": [
            "2\n"
          ]
        }
      ],
      "source": [
        "def sqrt(x):\n",
        "    if x == 0 or x == 1:\n",
        "        return x\n",
        "\n",
        "    left, right = 1, x\n",
        "    while left <= right:\n",
        "        mid = (left + right) // 2\n",
        "        if mid * mid == x:\n",
        "            return mid\n",
        "        elif mid * mid < x:\n",
        "            left = mid + 1\n",
        "        else:\n",
        "            right = mid - 1\n",
        "\n",
        "    return right\n",
        "\n",
        "print(sqrt(8))\n"
      ]
    },
    {
      "cell_type": "code",
      "execution_count": null,
      "metadata": {
        "id": "e_TG2fRqjiJZ"
      },
      "outputs": [],
      "source": [
        "def maxProfit(prices):\n",
        "    \"\"\"\n",
        "    :type prices: List[int]\n",
        "    :rtype: int\n",
        "    \"\"\"\n",
        "    if not prices or len(prices)<2:\n",
        "        return 0\n",
        "\n",
        "    min_price = prices[0]\n",
        "    max_profit = 0\n",
        "\n",
        "    for price in prices[1:]:\n",
        "        if price < min_price:\n",
        "            min_price = price\n",
        "        else:\n",
        "            max_profit = max(max_profit, price - min_price)\n",
        "\n",
        "    return max_profit"
      ]
    },
    {
      "cell_type": "code",
      "execution_count": null,
      "metadata": {
        "id": "oA1CPpwh_vJT"
      },
      "outputs": [],
      "source": [
        "def maxavgsubarr(nums, k):\n",
        "    window_sum = sum(nums[:k])\n",
        "    max_sum = window_sum\n",
        "\n",
        "    for i in range(k, len(nums)):\n",
        "        window_sum += nums[i] - nums[i - k]\n",
        "        max_sum = max(max_sum, window_sum)\n",
        "\n",
        "    return max_sum / k\n",
        "\n",
        "def maxavgsubarr2(nums, k):\n",
        "  given = [sum(nums[i:i+k])/k for i in range(len(nums)) if len(nums[i:i+k])==k]\n",
        "  return max(given)"
      ]
    },
    {
      "cell_type": "code",
      "execution_count": null,
      "metadata": {
        "id": "EQOo65wzT8eu"
      },
      "outputs": [],
      "source": [
        "def pivotIndex(nums):\n",
        "  if not nums:\n",
        "    return None\n",
        "  var = -1\n",
        "  for i in range(len(nums)):\n",
        "    if sum(nums[:i]) == sum(nums[i+1:]):\n",
        "      var = i\n",
        "  return var\n",
        "\n",
        "def pivotIndex2(nums):\n",
        "    total_sum = sum(nums)\n",
        "    left_sum = 0\n",
        "    for i, num in enumerate(nums):\n",
        "        if left_sum == (total_sum - left_sum - num):\n",
        "            return i\n",
        "        left_sum += num\n",
        "    return -1\n",
        "\n"
      ]
    },
    {
      "cell_type": "code",
      "execution_count": null,
      "metadata": {
        "colab": {
          "base_uri": "https://localhost:8080/"
        },
        "id": "4_6U4bYjeEvX",
        "outputId": "5869463b-aae6-4e42-e78f-15ea1c641488"
      },
      "outputs": [
        {
          "name": "stdout",
          "output_type": "stream",
          "text": [
            "2\n"
          ]
        }
      ],
      "source": [
        "def find_needle(haystack, needle):\n",
        "    hay_length = len(haystack)\n",
        "    need_length = len(needle)\n",
        "\n",
        "    for i in range(hay_length - need_length + 1):\n",
        "        if haystack[i:i + need_length] == needle:\n",
        "            return i\n",
        "    return -1\n",
        "\n",
        "haystack = \"hello\"\n",
        "needle = \"ll\""
      ]
    },
    {
      "cell_type": "code",
      "execution_count": null,
      "metadata": {
        "id": "Ht7joLmzGSUI"
      },
      "outputs": [],
      "source": [
        "strs = [\"flower\",\"flow\",\"flight\"]"
      ]
    },
    {
      "cell_type": "code",
      "execution_count": null,
      "metadata": {
        "id": "-HhBo35AbDgS"
      },
      "outputs": [],
      "source": [
        "def largest_substring(strings):\n",
        "  first_str = strings[0]\n",
        "  last_str = strings[-1]\n",
        "  common_substr = []\n",
        "  for i in range(min(len(first_str), len(last_str))):\n",
        "    if first_str[i] == last_str[i]:\n",
        "      common_substr.append(first_str[i])\n",
        "    else:\n",
        "      break\n",
        "  return ''.join(common_substr)\n"
      ]
    },
    {
      "cell_type": "code",
      "execution_count": null,
      "metadata": {
        "colab": {
          "base_uri": "https://localhost:8080/",
          "height": 36
        },
        "id": "ZlPlqP51b5eH",
        "outputId": "59d6f16d-0c90-4583-e5a6-2de8114f03e3"
      },
      "outputs": [
        {
          "data": {
            "application/vnd.google.colaboratory.intrinsic+json": {
              "type": "string"
            },
            "text/plain": [
              "'fl'"
            ]
          },
          "execution_count": 12,
          "metadata": {},
          "output_type": "execute_result"
        }
      ],
      "source": [
        "largest_substring(strs)"
      ]
    },
    {
      "cell_type": "code",
      "execution_count": null,
      "metadata": {
        "id": "TKADKcKvcfOK"
      },
      "outputs": [],
      "source": [
        "s = \"axc\"\n",
        "t = \"ahbgdc\""
      ]
    },
    {
      "cell_type": "code",
      "execution_count": null,
      "metadata": {
        "id": "H8gaoTMLd8Zv"
      },
      "outputs": [],
      "source": [
        "def is_subsequence(s, t):\n",
        "    s_pointer = 0\n",
        "    for char in t:\n",
        "      if s_pointer < len(s) and char == s[s_pointer]:\n",
        "        s_pointer += 1\n",
        "\n",
        "    return len(s) == s_pointer\n"
      ]
    },
    {
      "cell_type": "code",
      "execution_count": null,
      "metadata": {
        "colab": {
          "base_uri": "https://localhost:8080/"
        },
        "id": "DN6uj4eLeSRi",
        "outputId": "fdfd7269-e96f-45b1-a1ec-d0b625caed40"
      },
      "outputs": [
        {
          "data": {
            "text/plain": [
              "False"
            ]
          },
          "execution_count": 29,
          "metadata": {},
          "output_type": "execute_result"
        }
      ],
      "source": [
        "is_subsequence(s, t)"
      ]
    },
    {
      "cell_type": "code",
      "execution_count": null,
      "metadata": {
        "id": "kRWSMy-gA5wP"
      },
      "outputs": [],
      "source": [
        "str1 = \"ABABAB\"\n",
        "str2 = \"ABAB\""
      ]
    },
    {
      "cell_type": "code",
      "execution_count": null,
      "metadata": {
        "colab": {
          "base_uri": "https://localhost:8080/"
        },
        "id": "jfeK2cxBZq_a",
        "outputId": "5d64c19e-2971-4192-9bb3-f01111c9f66b"
      },
      "outputs": [
        {
          "name": "stdout",
          "output_type": "stream",
          "text": [
            "\n"
          ]
        }
      ],
      "source": [
        "def example(str1, str2):\n",
        "    var = len(str2)\n",
        "    i = 0\n",
        "    sample = str2\n",
        "    while i < len(str1):\n",
        "        if str2 != str1[i:var]:\n",
        "          sample = \"\"\n",
        "          break\n",
        "        i = var\n",
        "        var += len(str2)\n",
        "    return sample\n",
        "\n",
        "str1 = \"ABABAB\"\n",
        "str2 = \"ABAB\"\n",
        "print(example(str1, str2))  # Output: AB\n"
      ]
    },
    {
      "cell_type": "code",
      "execution_count": null,
      "metadata": {
        "id": "bNEfHtgGweAG"
      },
      "outputs": [],
      "source": [
        "def gcd(str1, str2):\n",
        "  if str1 + str2 != str2 + str1:\n",
        "    return \"\"\n",
        "\n",
        "  # Calculate the greatest common divisor (GCD) of the lengths of str1 and str2\n",
        "  length1, length2 = len(str1), len(str2)\n",
        "  while length2:\n",
        "      length1, length2 = length2, length1 % length2\n",
        "\n",
        "  # Return the substring of str1 up to the length of the GCD\n",
        "  return str1[:length1]"
      ]
    },
    {
      "cell_type": "code",
      "execution_count": null,
      "metadata": {
        "colab": {
          "base_uri": "https://localhost:8080/",
          "height": 36
        },
        "id": "OSDYOyK44PIZ",
        "outputId": "952db6cc-76e4-4d08-b70e-68d7f8afc02f"
      },
      "outputs": [
        {
          "data": {
            "application/vnd.google.colaboratory.intrinsic+json": {
              "type": "string"
            },
            "text/plain": [
              "'AB'"
            ]
          },
          "execution_count": 111,
          "metadata": {},
          "output_type": "execute_result"
        }
      ],
      "source": [
        "gcd(str1, str2)"
      ]
    },
    {
      "cell_type": "code",
      "execution_count": null,
      "metadata": {
        "colab": {
          "base_uri": "https://localhost:8080/",
          "height": 36
        },
        "id": "L8n-ySHN5Ibg",
        "outputId": "60532ceb-ba11-4c2b-8c50-343ca4f3714b"
      },
      "outputs": [
        {
          "data": {
            "application/vnd.google.colaboratory.intrinsic+json": {
              "type": "string"
            },
            "text/plain": [
              "'ABCABCDEF'"
            ]
          },
          "execution_count": 116,
          "metadata": {},
          "output_type": "execute_result"
        }
      ],
      "source": [
        "\"ABC\" + \"ABCDEF\""
      ]
    },
    {
      "cell_type": "markdown",
      "metadata": {
        "id": "E7I3FrTgNgkh"
      },
      "source": [
        "PSEUDO:\n",
        "1. initialize the greatest = greatest\n",
        "2. candies[i] + extraCandies = sum\n",
        "3. if sum >= greatest: True else False\n"
      ]
    },
    {
      "cell_type": "code",
      "execution_count": null,
      "metadata": {
        "colab": {
          "base_uri": "https://localhost:8080/"
        },
        "id": "vPEGgb9xMIst",
        "outputId": "492e8e08-9476-4601-bda9-04371db549c0"
      },
      "outputs": [
        {
          "data": {
            "text/plain": [
              "[True, True, True, False, True]"
            ]
          },
          "execution_count": 5,
          "metadata": {},
          "output_type": "execute_result"
        }
      ],
      "source": [
        "candies = [2,3,5,1,3]\n",
        "extraCandies = 3\n",
        "\n",
        "\n",
        "def kidsWithCandies(candies, extraCandies):\n",
        "    max_candies = max(candies)\n",
        "    sample_list = [candy + extraCandies >= max_candies for candy in candies]\n",
        "    return sample_list\n",
        "\n",
        "\n",
        "kidsWithCandies(candies, extraCandies)"
      ]
    },
    {
      "cell_type": "markdown",
      "metadata": {
        "id": "Q6W-NPnnIGL-"
      },
      "source": [
        "1. pointer_1 starts traversing through the list and finds a vowel then stops,\n",
        "2. pointer_2 starts traversing through string, find a voowel, stops\n",
        "3. swap"
      ]
    },
    {
      "cell_type": "code",
      "execution_count": null,
      "metadata": {
        "colab": {
          "base_uri": "https://localhost:8080/",
          "height": 35
        },
        "id": "lhO183dEBAx0",
        "outputId": "273af010-24b1-4ef0-c260-ee8bc3d0d7af"
      },
      "outputs": [
        {
          "data": {
            "application/vnd.google.colaboratory.intrinsic+json": {
              "type": "string"
            },
            "text/plain": [
              "'holle'"
            ]
          },
          "execution_count": 28,
          "metadata": {},
          "output_type": "execute_result"
        }
      ],
      "source": [
        "s = \"hello\"\n",
        "\n",
        "def swapvowels(s):\n",
        "  vowels = set(\"aeiouAEIOU\")\n",
        "  s = list(s)\n",
        "  vowel_indices = [i for i, char in enumerate(s) if char in vowels]\n",
        "  left, right = 0, len(vowel_indices) - 1\n",
        "\n",
        "  while left < right:\n",
        "      s[vowel_indices[left]], s[vowel_indices[right]] = s[vowel_indices[right]], s[vowel_indices[left]]\n",
        "      left += 1\n",
        "      right -= 1\n",
        "\n",
        "  return ''.join(s)\n",
        "\n",
        "swapvowels(s)"
      ]
    },
    {
      "cell_type": "code",
      "execution_count": null,
      "metadata": {
        "id": "A4xUizSyUiSq"
      },
      "outputs": [],
      "source": [
        "def reverse(s):\n",
        "  return \" \".join(s.split()[::-1])"
      ]
    },
    {
      "cell_type": "code",
      "execution_count": null,
      "metadata": {
        "id": "JDX3gCTHnVNL"
      },
      "outputs": [],
      "source": [
        "from functools import reduce\n",
        "def productExceptSelf(nums):\n",
        "  n = len(nums)\n",
        "  result = [1] * n\n",
        "\n",
        "  # Calculate prefix products\n",
        "  prefix_product = 1\n",
        "  for i in range(n):\n",
        "      result[i] *= prefix_product\n",
        "      prefix_product *= nums[i]\n",
        "\n",
        "  # Calculate suffix products and multiply with prefix products\n",
        "  suffix_product = 1\n",
        "  for i in range(n - 1, -1, -1):\n",
        "      result[i] *= suffix_product\n",
        "      suffix_product *= nums[i]\n",
        "\n",
        "  return result"
      ]
    },
    {
      "cell_type": "code",
      "execution_count": null,
      "metadata": {
        "id": "OwVIKy6vy2iu"
      },
      "outputs": [],
      "source": [
        "nums = [1,2,3,4]\n",
        "k = 5\n",
        "\n",
        "def maxOperations(nums, k):\n",
        "  nums.sort()  # Sort the array\n",
        "\n",
        "  left, right = 0, len(nums) - 1\n",
        "  count = 0\n",
        "\n",
        "  while left < right:\n",
        "    sum = nums[left] + nums[right]\n",
        "\n",
        "    if sum == k:\n",
        "      count += 1\n",
        "      left += 1\n",
        "      right -= 1\n",
        "    elif sum < k:\n",
        "      left += 1\n",
        "    else:\n",
        "      right -= 1\n",
        "\n",
        "  return count"
      ]
    },
    {
      "cell_type": "code",
      "execution_count": null,
      "metadata": {
        "colab": {
          "base_uri": "https://localhost:8080/"
        },
        "id": "xISlv6DGGyZy",
        "outputId": "e773b394-caec-4fe6-e6b8-fa16aa6bfefc"
      },
      "outputs": [
        {
          "data": {
            "text/plain": [
              "2"
            ]
          },
          "execution_count": 99,
          "metadata": {},
          "output_type": "execute_result"
        }
      ],
      "source": [
        "maxOperations(nums, k)"
      ]
    },
    {
      "cell_type": "code",
      "execution_count": null,
      "metadata": {
        "colab": {
          "base_uri": "https://localhost:8080/"
        },
        "id": "KnEPbTpLdc04",
        "outputId": "05b60138-0286-4dc0-89be-ff41a573c3d8"
      },
      "outputs": [
        {
          "name": "stdout",
          "output_type": "stream",
          "text": [
            "   Roll No Subject  M1  M2  M3       Date\n",
            "0        1      DS  40  25   0 2023-01-15\n",
            "1        1    Java  40   0   0 2023-02-01\n",
            "2        2      DS  30   0   0 2023-01-01\n",
            "3        2    Java  26  50   0 2023-02-01\n"
          ]
        }
      ],
      "source": [
        "import pandas as pd\n",
        "\n",
        "# Create the input DataFrame\n",
        "data = {\n",
        "    'Roll No': [1, 1, 2, 2, 1, 2],\n",
        "    'Subject': ['DS', 'Java', 'DS', 'Java', 'DS', 'Java'],\n",
        "    'Marks': [25, 40, 30, 26, 40, 50],\n",
        "    'Date': ['01-01-23', '02-01-23', '01-01-23', '02-01-23', '15-01-23', '15-01-23']\n",
        "}\n",
        "df = pd.DataFrame(data)\n",
        "\n",
        "# Convert Date column to datetime format\n",
        "df['Date'] = pd.to_datetime(df['Date'])\n",
        "\n",
        "# Sort the DataFrame by Date in descending order\n",
        "df.sort_values(by='Date', ascending=False, inplace=True)\n",
        "\n",
        "# Group by Roll No and Subject\n",
        "groups = df.groupby(['Roll No', 'Subject'])\n",
        "\n",
        "# Initialize lists to store output data\n",
        "roll_nos = []\n",
        "subjects = []\n",
        "m1_list = []\n",
        "m2_list = []\n",
        "m3_list = []\n",
        "date_list = []\n",
        "\n",
        "# Iterate over groups and extract latest three attempts\n",
        "for (roll_no, subject), group_df in groups:\n",
        "    marks = group_df['Marks'].tolist()[:3]  # Get the latest three attempts' marks\n",
        "    marks += [0] * (3 - len(marks))  # Fill missing attempts with 0\n",
        "    date = group_df.iloc[0]['Date']  # Get the date of the latest attempt\n",
        "\n",
        "    roll_nos.append(roll_no)\n",
        "    subjects.append(subject)\n",
        "    m1_list.append(marks[0])\n",
        "    m2_list.append(marks[1])\n",
        "    m3_list.append(marks[2])\n",
        "    date_list.append(date)\n",
        "\n",
        "# Create the output DataFrame\n",
        "output_df = pd.DataFrame({\n",
        "    'Roll No': roll_nos,\n",
        "    'Subject': subjects,\n",
        "    'M1': m1_list,\n",
        "    'M2': m2_list,\n",
        "    'M3': m3_list,\n",
        "    'Date': date_list\n",
        "})\n",
        "\n",
        "# Display the output DataFrame\n",
        "print(output_df)\n"
      ]
    },
    {
      "cell_type": "code",
      "execution_count": null,
      "metadata": {
        "colab": {
          "base_uri": "https://localhost:8080/"
        },
        "id": "DdVgT2MnxWRJ",
        "outputId": "6ef47988-5192-4cde-ec6b-2c9d26a9cf8b"
      },
      "outputs": [
        {
          "data": {
            "text/plain": [
              "['a', 'b', '1', '2']"
            ]
          },
          "execution_count": 3,
          "metadata": {},
          "output_type": "execute_result"
        }
      ],
      "source": [
        "chars = [\"a\",\"b\",\"b\",\"b\",\"b\",\"b\",\"b\",\"b\",\"b\",\"b\",\"b\",\"b\",\"b\"]\n",
        "\n",
        "class Compress:\n",
        "  def compress1(self, chars):\n",
        "    compressed = []\n",
        "    count = 1\n",
        "\n",
        "    for i in range(1, len(chars)):\n",
        "        if chars[i] == chars[i - 1]:\n",
        "            count += 1\n",
        "        else:\n",
        "            compressed.append(chars[i - 1])\n",
        "            if count > 1:\n",
        "                compressed.extend(list(str(count)))\n",
        "            count = 1\n",
        "\n",
        "    compressed.append(chars[-1])\n",
        "    if count > 1:\n",
        "        compressed.extend(list(str(count)))\n",
        "\n",
        "    return compressed\n",
        "\n",
        "  def compress2(self, chars):\n",
        "    write_idx = 0  # Index to write compressed characters\n",
        "    start_idx = 0  # Index to track the start of a group\n",
        "    count = 1  # Count of consecutive repeating characters\n",
        "\n",
        "    # Iterate through the characters in the array\n",
        "    for i in range(1, len(chars)):\n",
        "        if chars[i] == chars[i - 1]:\n",
        "            count += 1  # Increment count for consecutive repeating characters\n",
        "        else:\n",
        "            chars[write_idx] = chars[start_idx]  # Write the character\n",
        "            write_idx += 1\n",
        "\n",
        "            # If count is greater than 1, write its digits\n",
        "            if count > 1:\n",
        "                count_str = str(count)\n",
        "                for digit in count_str:\n",
        "                    chars[write_idx] = digit\n",
        "                    write_idx += 1\n",
        "\n",
        "            start_idx = i  # Update start index for the next group\n",
        "            count = 1  # Reset count\n",
        "\n",
        "    # Write the last group\n",
        "    chars[write_idx] = chars[start_idx]\n",
        "    write_idx += 1\n",
        "    if count > 1:\n",
        "        count_str = str(count)\n",
        "        for digit in count_str:\n",
        "            chars[write_idx] = digit\n",
        "            write_idx += 1\n",
        "\n",
        "    return write_idx\n",
        "\n",
        "# Create an instance of the Compress class\n",
        "compressor = Compress()\n",
        "# Call the compress1 method on the instance\n",
        "compressor.compress1(chars)\n",
        "\n",
        "\n",
        "\n"
      ]
    },
    {
      "cell_type": "code",
      "execution_count": null,
      "metadata": {
        "colab": {
          "background_save": true
        },
        "id": "18IudO-T19ao"
      },
      "outputs": [],
      "source": [
        "nums = [0,1,0,3,12]\n",
        "\n",
        "def moveZeroes(nums):\n",
        "    count = 0\n",
        "    for i in range(len(nums)):\n",
        "        if nums[i] != 0:\n",
        "          nums[count] = nums[i]\n",
        "          if count != i:\n",
        "              nums[i] = 0\n",
        "          count += 1\n",
        "\n",
        "moveZeroes(nums)"
      ]
    },
    {
      "cell_type": "code",
      "execution_count": null,
      "metadata": {
        "id": "m_0ReJXeTmd1"
      },
      "outputs": [],
      "source": [
        "import pandas as pd\n",
        "\n",
        "# Create a dictionary with the given data\n",
        "data = {\n",
        "    'city': ['Jacksonville', 'Jacksonville', 'Jacksonville', 'Jacksonville', 'Jacksonville', 'ElPaso', 'ElPaso', 'ElPaso', 'ElPaso', 'ElPaso'],\n",
        "    'month': ['January', 'February', 'March', 'April', 'May', 'January', 'February', 'March', 'April', 'May'],\n",
        "    'temperature': [13, 23, 38, 5, 34, 20, 6, 26, 2, 43]\n",
        "}\n",
        "# Convert the dictionary to a DataFrame\n",
        "df = pd.DataFrame(data)\n",
        "\n"
      ]
    },
    {
      "cell_type": "code",
      "execution_count": null,
      "metadata": {
        "colab": {
          "base_uri": "https://localhost:8080/",
          "height": 237
        },
        "id": "BI2iiyJv4ng3",
        "outputId": "218e8363-3485-43aa-f9aa-8370fda87d19"
      },
      "outputs": [
        {
          "data": {
            "application/vnd.google.colaboratory.intrinsic+json": {
              "summary": "{\n  \"name\": \"df\",\n  \"rows\": 5,\n  \"fields\": [\n    {\n      \"column\": \"month\",\n      \"properties\": {\n        \"dtype\": \"string\",\n        \"num_unique_values\": 5,\n        \"samples\": [\n          \"February\",\n          \"May\",\n          \"January\"\n        ],\n        \"semantic_type\": \"\",\n        \"description\": \"\"\n      }\n    },\n    {\n      \"column\": \"ElPaso\",\n      \"properties\": {\n        \"dtype\": \"number\",\n        \"std\": 16,\n        \"min\": 2,\n        \"max\": 43,\n        \"num_unique_values\": 5,\n        \"samples\": [\n          6,\n          43,\n          20\n        ],\n        \"semantic_type\": \"\",\n        \"description\": \"\"\n      }\n    },\n    {\n      \"column\": \"Jacksonville\",\n      \"properties\": {\n        \"dtype\": \"number\",\n        \"std\": 13,\n        \"min\": 5,\n        \"max\": 38,\n        \"num_unique_values\": 5,\n        \"samples\": [\n          23,\n          34,\n          13\n        ],\n        \"semantic_type\": \"\",\n        \"description\": \"\"\n      }\n    }\n  ]\n}",
              "type": "dataframe"
            },
            "text/html": [
              "\n",
              "  <div id=\"df-e463549a-2cdf-4188-8250-c35961222221\" class=\"colab-df-container\">\n",
              "    <div>\n",
              "<style scoped>\n",
              "    .dataframe tbody tr th:only-of-type {\n",
              "        vertical-align: middle;\n",
              "    }\n",
              "\n",
              "    .dataframe tbody tr th {\n",
              "        vertical-align: top;\n",
              "    }\n",
              "\n",
              "    .dataframe thead th {\n",
              "        text-align: right;\n",
              "    }\n",
              "</style>\n",
              "<table border=\"1\" class=\"dataframe\">\n",
              "  <thead>\n",
              "    <tr style=\"text-align: right;\">\n",
              "      <th>city</th>\n",
              "      <th>ElPaso</th>\n",
              "      <th>Jacksonville</th>\n",
              "    </tr>\n",
              "    <tr>\n",
              "      <th>month</th>\n",
              "      <th></th>\n",
              "      <th></th>\n",
              "    </tr>\n",
              "  </thead>\n",
              "  <tbody>\n",
              "    <tr>\n",
              "      <th>April</th>\n",
              "      <td>2</td>\n",
              "      <td>5</td>\n",
              "    </tr>\n",
              "    <tr>\n",
              "      <th>February</th>\n",
              "      <td>6</td>\n",
              "      <td>23</td>\n",
              "    </tr>\n",
              "    <tr>\n",
              "      <th>January</th>\n",
              "      <td>20</td>\n",
              "      <td>13</td>\n",
              "    </tr>\n",
              "    <tr>\n",
              "      <th>March</th>\n",
              "      <td>26</td>\n",
              "      <td>38</td>\n",
              "    </tr>\n",
              "    <tr>\n",
              "      <th>May</th>\n",
              "      <td>43</td>\n",
              "      <td>34</td>\n",
              "    </tr>\n",
              "  </tbody>\n",
              "</table>\n",
              "</div>\n",
              "    <div class=\"colab-df-buttons\">\n",
              "\n",
              "  <div class=\"colab-df-container\">\n",
              "    <button class=\"colab-df-convert\" onclick=\"convertToInteractive('df-e463549a-2cdf-4188-8250-c35961222221')\"\n",
              "            title=\"Convert this dataframe to an interactive table.\"\n",
              "            style=\"display:none;\">\n",
              "\n",
              "  <svg xmlns=\"http://www.w3.org/2000/svg\" height=\"24px\" viewBox=\"0 -960 960 960\">\n",
              "    <path d=\"M120-120v-720h720v720H120Zm60-500h600v-160H180v160Zm220 220h160v-160H400v160Zm0 220h160v-160H400v160ZM180-400h160v-160H180v160Zm440 0h160v-160H620v160ZM180-180h160v-160H180v160Zm440 0h160v-160H620v160Z\"/>\n",
              "  </svg>\n",
              "    </button>\n",
              "\n",
              "  <style>\n",
              "    .colab-df-container {\n",
              "      display:flex;\n",
              "      gap: 12px;\n",
              "    }\n",
              "\n",
              "    .colab-df-convert {\n",
              "      background-color: #E8F0FE;\n",
              "      border: none;\n",
              "      border-radius: 50%;\n",
              "      cursor: pointer;\n",
              "      display: none;\n",
              "      fill: #1967D2;\n",
              "      height: 32px;\n",
              "      padding: 0 0 0 0;\n",
              "      width: 32px;\n",
              "    }\n",
              "\n",
              "    .colab-df-convert:hover {\n",
              "      background-color: #E2EBFA;\n",
              "      box-shadow: 0px 1px 2px rgba(60, 64, 67, 0.3), 0px 1px 3px 1px rgba(60, 64, 67, 0.15);\n",
              "      fill: #174EA6;\n",
              "    }\n",
              "\n",
              "    .colab-df-buttons div {\n",
              "      margin-bottom: 4px;\n",
              "    }\n",
              "\n",
              "    [theme=dark] .colab-df-convert {\n",
              "      background-color: #3B4455;\n",
              "      fill: #D2E3FC;\n",
              "    }\n",
              "\n",
              "    [theme=dark] .colab-df-convert:hover {\n",
              "      background-color: #434B5C;\n",
              "      box-shadow: 0px 1px 3px 1px rgba(0, 0, 0, 0.15);\n",
              "      filter: drop-shadow(0px 1px 2px rgba(0, 0, 0, 0.3));\n",
              "      fill: #FFFFFF;\n",
              "    }\n",
              "  </style>\n",
              "\n",
              "    <script>\n",
              "      const buttonEl =\n",
              "        document.querySelector('#df-e463549a-2cdf-4188-8250-c35961222221 button.colab-df-convert');\n",
              "      buttonEl.style.display =\n",
              "        google.colab.kernel.accessAllowed ? 'block' : 'none';\n",
              "\n",
              "      async function convertToInteractive(key) {\n",
              "        const element = document.querySelector('#df-e463549a-2cdf-4188-8250-c35961222221');\n",
              "        const dataTable =\n",
              "          await google.colab.kernel.invokeFunction('convertToInteractive',\n",
              "                                                    [key], {});\n",
              "        if (!dataTable) return;\n",
              "\n",
              "        const docLinkHtml = 'Like what you see? Visit the ' +\n",
              "          '<a target=\"_blank\" href=https://colab.research.google.com/notebooks/data_table.ipynb>data table notebook</a>'\n",
              "          + ' to learn more about interactive tables.';\n",
              "        element.innerHTML = '';\n",
              "        dataTable['output_type'] = 'display_data';\n",
              "        await google.colab.output.renderOutput(dataTable, element);\n",
              "        const docLink = document.createElement('div');\n",
              "        docLink.innerHTML = docLinkHtml;\n",
              "        element.appendChild(docLink);\n",
              "      }\n",
              "    </script>\n",
              "  </div>\n",
              "\n",
              "\n",
              "<div id=\"df-d9756d8f-e54d-46d0-8448-eb571bc7f3a5\">\n",
              "  <button class=\"colab-df-quickchart\" onclick=\"quickchart('df-d9756d8f-e54d-46d0-8448-eb571bc7f3a5')\"\n",
              "            title=\"Suggest charts\"\n",
              "            style=\"display:none;\">\n",
              "\n",
              "<svg xmlns=\"http://www.w3.org/2000/svg\" height=\"24px\"viewBox=\"0 0 24 24\"\n",
              "     width=\"24px\">\n",
              "    <g>\n",
              "        <path d=\"M19 3H5c-1.1 0-2 .9-2 2v14c0 1.1.9 2 2 2h14c1.1 0 2-.9 2-2V5c0-1.1-.9-2-2-2zM9 17H7v-7h2v7zm4 0h-2V7h2v10zm4 0h-2v-4h2v4z\"/>\n",
              "    </g>\n",
              "</svg>\n",
              "  </button>\n",
              "\n",
              "<style>\n",
              "  .colab-df-quickchart {\n",
              "      --bg-color: #E8F0FE;\n",
              "      --fill-color: #1967D2;\n",
              "      --hover-bg-color: #E2EBFA;\n",
              "      --hover-fill-color: #174EA6;\n",
              "      --disabled-fill-color: #AAA;\n",
              "      --disabled-bg-color: #DDD;\n",
              "  }\n",
              "\n",
              "  [theme=dark] .colab-df-quickchart {\n",
              "      --bg-color: #3B4455;\n",
              "      --fill-color: #D2E3FC;\n",
              "      --hover-bg-color: #434B5C;\n",
              "      --hover-fill-color: #FFFFFF;\n",
              "      --disabled-bg-color: #3B4455;\n",
              "      --disabled-fill-color: #666;\n",
              "  }\n",
              "\n",
              "  .colab-df-quickchart {\n",
              "    background-color: var(--bg-color);\n",
              "    border: none;\n",
              "    border-radius: 50%;\n",
              "    cursor: pointer;\n",
              "    display: none;\n",
              "    fill: var(--fill-color);\n",
              "    height: 32px;\n",
              "    padding: 0;\n",
              "    width: 32px;\n",
              "  }\n",
              "\n",
              "  .colab-df-quickchart:hover {\n",
              "    background-color: var(--hover-bg-color);\n",
              "    box-shadow: 0 1px 2px rgba(60, 64, 67, 0.3), 0 1px 3px 1px rgba(60, 64, 67, 0.15);\n",
              "    fill: var(--button-hover-fill-color);\n",
              "  }\n",
              "\n",
              "  .colab-df-quickchart-complete:disabled,\n",
              "  .colab-df-quickchart-complete:disabled:hover {\n",
              "    background-color: var(--disabled-bg-color);\n",
              "    fill: var(--disabled-fill-color);\n",
              "    box-shadow: none;\n",
              "  }\n",
              "\n",
              "  .colab-df-spinner {\n",
              "    border: 2px solid var(--fill-color);\n",
              "    border-color: transparent;\n",
              "    border-bottom-color: var(--fill-color);\n",
              "    animation:\n",
              "      spin 1s steps(1) infinite;\n",
              "  }\n",
              "\n",
              "  @keyframes spin {\n",
              "    0% {\n",
              "      border-color: transparent;\n",
              "      border-bottom-color: var(--fill-color);\n",
              "      border-left-color: var(--fill-color);\n",
              "    }\n",
              "    20% {\n",
              "      border-color: transparent;\n",
              "      border-left-color: var(--fill-color);\n",
              "      border-top-color: var(--fill-color);\n",
              "    }\n",
              "    30% {\n",
              "      border-color: transparent;\n",
              "      border-left-color: var(--fill-color);\n",
              "      border-top-color: var(--fill-color);\n",
              "      border-right-color: var(--fill-color);\n",
              "    }\n",
              "    40% {\n",
              "      border-color: transparent;\n",
              "      border-right-color: var(--fill-color);\n",
              "      border-top-color: var(--fill-color);\n",
              "    }\n",
              "    60% {\n",
              "      border-color: transparent;\n",
              "      border-right-color: var(--fill-color);\n",
              "    }\n",
              "    80% {\n",
              "      border-color: transparent;\n",
              "      border-right-color: var(--fill-color);\n",
              "      border-bottom-color: var(--fill-color);\n",
              "    }\n",
              "    90% {\n",
              "      border-color: transparent;\n",
              "      border-bottom-color: var(--fill-color);\n",
              "    }\n",
              "  }\n",
              "</style>\n",
              "\n",
              "  <script>\n",
              "    async function quickchart(key) {\n",
              "      const quickchartButtonEl =\n",
              "        document.querySelector('#' + key + ' button');\n",
              "      quickchartButtonEl.disabled = true;  // To prevent multiple clicks.\n",
              "      quickchartButtonEl.classList.add('colab-df-spinner');\n",
              "      try {\n",
              "        const charts = await google.colab.kernel.invokeFunction(\n",
              "            'suggestCharts', [key], {});\n",
              "      } catch (error) {\n",
              "        console.error('Error during call to suggestCharts:', error);\n",
              "      }\n",
              "      quickchartButtonEl.classList.remove('colab-df-spinner');\n",
              "      quickchartButtonEl.classList.add('colab-df-quickchart-complete');\n",
              "    }\n",
              "    (() => {\n",
              "      let quickchartButtonEl =\n",
              "        document.querySelector('#df-d9756d8f-e54d-46d0-8448-eb571bc7f3a5 button');\n",
              "      quickchartButtonEl.style.display =\n",
              "        google.colab.kernel.accessAllowed ? 'block' : 'none';\n",
              "    })();\n",
              "  </script>\n",
              "</div>\n",
              "\n",
              "    </div>\n",
              "  </div>\n"
            ],
            "text/plain": [
              "city      ElPaso  Jacksonville\n",
              "month                         \n",
              "April          2             5\n",
              "February       6            23\n",
              "January       20            13\n",
              "March         26            38\n",
              "May           43            34"
            ]
          },
          "execution_count": 59,
          "metadata": {},
          "output_type": "execute_result"
        }
      ],
      "source": [
        "df.pivot(index='month', columns = 'city', values = 'temperature')"
      ]
    },
    {
      "cell_type": "code",
      "execution_count": null,
      "metadata": {
        "id": "AGGHzV_8GpGj"
      },
      "outputs": [],
      "source": [
        "s = \"a\"\n",
        "t = \"ab\""
      ]
    },
    {
      "cell_type": "code",
      "execution_count": null,
      "metadata": {
        "id": "Zd5ySOgAO8eT"
      },
      "outputs": [],
      "source": [
        "s = \"anagram\"\n",
        "t = \"nagaram\"\n",
        "\n",
        "def isAnagram(s, t):\n",
        "    if len(s) != len(t):\n",
        "        return False\n",
        "\n",
        "    char_count = {}\n",
        "    for char in s:\n",
        "        char_count[char] = char_count.get(char, 0) + 1\n",
        "\n",
        "    for char in t:\n",
        "        if char not in char_count or char_count[char] == 0:\n",
        "            return False\n",
        "        char_count[char] -= 1\n",
        "\n",
        "    return True\n",
        "isAnagram(s, t)"
      ]
    },
    {
      "cell_type": "code",
      "execution_count": null,
      "metadata": {
        "colab": {
          "base_uri": "https://localhost:8080/"
        },
        "id": "yb84vihSQHWI",
        "outputId": "c011ec62-74db-4259-d7e4-6e02a5f3b6a7"
      },
      "outputs": [
        {
          "data": {
            "text/plain": [
              "False"
            ]
          },
          "execution_count": 34,
          "metadata": {},
          "output_type": "execute_result"
        }
      ],
      "source": [
        "isAnagram(s, t)"
      ]
    },
    {
      "cell_type": "code",
      "execution_count": null,
      "metadata": {
        "colab": {
          "base_uri": "https://localhost:8080/"
        },
        "id": "hWYJ6DMBYGZE",
        "outputId": "5f79905d-60a8-45b0-850b-06900ef4a0f0"
      },
      "outputs": [
        {
          "name": "stdout",
          "output_type": "stream",
          "text": [
            "1 3 4 7 1 2 6 \n",
            "Length of the linked list: 7\n"
          ]
        }
      ],
      "source": [
        "class Node:\n",
        "    def __init__(self, value):\n",
        "        self.value = value\n",
        "        self.next = None\n",
        "\n",
        "class LinkedList:\n",
        "    def __init__(self):\n",
        "        self.head = None\n",
        "        self.length = 0\n",
        "\n",
        "    def append(self, value):\n",
        "        new_node = Node(value)\n",
        "        if not self.head:\n",
        "            self.head = new_node\n",
        "        else:\n",
        "            current = self.head\n",
        "            while current.next:\n",
        "                current = current.next\n",
        "            current.next = new_node\n",
        "        self.length += 1\n",
        "\n",
        "    def print_list(self):\n",
        "        current = self.head\n",
        "        while current:\n",
        "            print(current.value, end=\" \")\n",
        "            current = current.next\n",
        "        print()\n",
        "\n",
        "    def get_length(self):\n",
        "        return self.length\n",
        "\n",
        "\n",
        "# Create the linked list\n",
        "head = [1, 3, 4, 7, 1, 2, 6]\n",
        "linked_list = LinkedList()\n",
        "for value in head:\n",
        "    linked_list.append(value)\n",
        "\n",
        "# Print all values in the linked list\n",
        "linked_list.print_list()\n",
        "\n",
        "# Get and print the length of the linked list\n",
        "length = linked_list.get_length()\n",
        "print(\"Length of the linked list:\", length)\n"
      ]
    },
    {
      "cell_type": "code",
      "execution_count": null,
      "metadata": {
        "id": "ZDirh9DTeyOd"
      },
      "outputs": [],
      "source": [
        "def findMaxAverage(nums, k):\n",
        "    \"\"\"\n",
        "    :type nums: List[int]\n",
        "    :type k: int\n",
        "    :rtype: float\n",
        "    \"\"\"\n",
        "    window_sum = sum(nums[:k])\n",
        "    max_sum = window_sum\n",
        "    for i in range(k, len(nums)):\n",
        "        window_sum += nums[i] - nums[i - k]\n",
        "        max_sum = max(max_sum, window_sum)\n",
        "\n",
        "    return max_sum/k"
      ]
    },
    {
      "cell_type": "code",
      "execution_count": null,
      "metadata": {
        "colab": {
          "base_uri": "https://localhost:8080/"
        },
        "id": "69c-M0V-ZZoI",
        "outputId": "7ddf9a34-d496-455a-e077-e0583b4e4624"
      },
      "outputs": [
        {
          "data": {
            "text/plain": [
              "12.75"
            ]
          },
          "execution_count": 2,
          "metadata": {},
          "output_type": "execute_result"
        }
      ],
      "source": [
        "nums = [1,12,-5,-6,50,3]\n",
        "k = 4\n",
        "findMaxAverage(nums, k)"
      ]
    },
    {
      "cell_type": "code",
      "execution_count": null,
      "metadata": {
        "id": "t7FOEGw5cmZ8"
      },
      "outputs": [],
      "source": [
        "head = [1,3,4,7,1,2,6]"
      ]
    },
    {
      "cell_type": "code",
      "execution_count": null,
      "metadata": {
        "id": "ub87_k20iUgY"
      },
      "outputs": [],
      "source": [
        "# Definition for singly-linked list.\n",
        "class ListNode(object):\n",
        "  def __init__(self, val=0, next=None):\n",
        "        self.val = val\n",
        "        self.next = next\n",
        "class Solution(object):\n",
        "    def oddEvenList(self, head):\n",
        "        \"\"\"\n",
        "        :type head: ListNode\n",
        "        :rtype: ListNode\n",
        "        \"\"\"\n",
        "        curr = head[0]\n",
        "        while curr.next is not None:\n",
        "          print(curr)\n",
        "          curr += 1\n"
      ]
    },
    {
      "cell_type": "code",
      "execution_count": null,
      "metadata": {
        "colab": {
          "base_uri": "https://localhost:8080/"
        },
        "id": "DLWOZufaivDN",
        "outputId": "2b967317-448a-4887-d71a-1b127c758a8a"
      },
      "outputs": [
        {
          "data": {
            "text/plain": [
              "7"
            ]
          },
          "execution_count": 59,
          "metadata": {},
          "output_type": "execute_result"
        }
      ],
      "source": [
        "nums = [1,2,3,4,5,6,7]\n",
        "k = 3\n",
        "len(nums)"
      ]
    },
    {
      "cell_type": "code",
      "execution_count": null,
      "metadata": {
        "colab": {
          "base_uri": "https://localhost:8080/"
        },
        "id": "1aZ1mC4q1Mye",
        "outputId": "dcc17fe2-b3db-4572-9618-c516aafe60ab"
      },
      "outputs": [
        {
          "data": {
            "text/plain": [
              "[7, 7, 7, 4, 5, 6, 7]"
            ]
          },
          "execution_count": 61,
          "metadata": {},
          "output_type": "execute_result"
        }
      ],
      "source": [
        "def rotate(nums, k):\n",
        "  new = []\n",
        "  index = 0\n",
        "  last = len(nums) -1\n",
        "  while k != 0:\n",
        "    nums[index] = nums[last]\n",
        "    k -= 1\n",
        "  return nums\n",
        "\n",
        "rotate(nums, k)"
      ]
    },
    {
      "cell_type": "code",
      "execution_count": null,
      "metadata": {
        "colab": {
          "base_uri": "https://localhost:8080/"
        },
        "id": "eAxwqIHK0dH7",
        "outputId": "5e739047-a62d-4b68-8c40-ab7877a48c99"
      },
      "outputs": [
        {
          "output_type": "stream",
          "name": "stdout",
          "text": [
            "3\n"
          ]
        }
      ],
      "source": [
        "def create_windows_count(s, k):\n",
        "    vowels = set(['a', 'e', 'i', 'o', 'u'])\n",
        "    max_window_count = 0\n",
        "    window_count = 0\n",
        "\n",
        "    # Calculate initial window count\n",
        "    for i in range(k):\n",
        "        if s[i] in vowels:\n",
        "            window_count += 1\n",
        "\n",
        "    max_window_count = max(max_window_count, window_count)\n",
        "\n",
        "    # Slide the window and update counts\n",
        "    for i in range(1, len(s) - k + 1):\n",
        "        if s[i - 1] in vowels:\n",
        "            window_count -= 1\n",
        "        if s[i + k - 1] in vowels:\n",
        "            window_count += 1\n",
        "        max_window_count = max(max_window_count, window_count)\n",
        "\n",
        "    return max_window_count\n",
        "\n",
        "\n",
        "s = 'abciiidef'\n",
        "k = 3\n",
        "windows_dict = create_windows_count(s, k)\n",
        "print(windows_dict)"
      ]
    },
    {
      "cell_type": "code",
      "source": [
        "nums1 = [1,2,3]\n",
        "nums2 = [2,4,6]\n",
        "def func(nums1, nums2):\n",
        "  set1 = set(nums1)\n",
        "  set2 = set(nums2)\n",
        "\n",
        "  num1 = list(set1 - set2)\n",
        "  num2 = list(set2 - set1)\n",
        "\n",
        "  return [num1, num2]\n",
        "func(nums1, nums2)"
      ],
      "metadata": {
        "colab": {
          "base_uri": "https://localhost:8080/"
        },
        "id": "9OrWsQzz93Iz",
        "outputId": "6c760aeb-a96b-4d2d-b45f-024ff8134138"
      },
      "execution_count": null,
      "outputs": [
        {
          "output_type": "execute_result",
          "data": {
            "text/plain": [
              "[[1, 3], [4, 6]]"
            ]
          },
          "metadata": {},
          "execution_count": 50
        }
      ]
    },
    {
      "cell_type": "code",
      "source": [
        "#test case\n",
        "gain = [-5,1,5,0,-7]\n",
        "\n",
        "#code implementation\n",
        "def largestAltitude(gain):\n",
        "  highest = 0\n",
        "  sum = 0\n",
        "  for i in gain:\n",
        "    sum += i\n",
        "    if sum > highest:\n",
        "      highest = sum\n",
        "\n",
        "  return highest\n",
        "\n",
        "#execution\n",
        "largestAltitude(gain)"
      ],
      "metadata": {
        "colab": {
          "base_uri": "https://localhost:8080/"
        },
        "id": "1PyKzMcF3wI7",
        "outputId": "b64e6b8e-8660-4315-bf9c-e3ae215b6858"
      },
      "execution_count": null,
      "outputs": [
        {
          "output_type": "execute_result",
          "data": {
            "text/plain": [
              "1"
            ]
          },
          "metadata": {},
          "execution_count": 13
        }
      ]
    },
    {
      "cell_type": "code",
      "source": [
        "test_cases = [[1,2], [1,2,2,1,1,3]]\n",
        "\n",
        "def uniqueOccurrences(arr):\n",
        "    count = {}\n",
        "    for i in arr:\n",
        "        count[i] = count.get(i, 0) + 1\n",
        "\n",
        "    occurrences_set = set(count.values())\n",
        "    return len(occurrences_set) == len(count)\n",
        "\n",
        "def implement_test_cases(test_cases):\n",
        "  for i in test_cases:\n",
        "    print(\"Cuurent test case: \",i)\n",
        "    print(\"Output: \", uniqueOccurrences(i))\n",
        "    print(\"\")\n",
        "\n",
        "implement_test_cases(test_cases)"
      ],
      "metadata": {
        "colab": {
          "base_uri": "https://localhost:8080/"
        },
        "id": "4ehngBaa52sj",
        "outputId": "517a1c0b-957a-4f94-9c81-553cfca6261c"
      },
      "execution_count": null,
      "outputs": [
        {
          "output_type": "stream",
          "name": "stdout",
          "text": [
            "Cuurent test case:  [1, 2]\n",
            "Output:  False\n",
            "\n",
            "Cuurent test case:  [1, 2, 2, 1, 1, 3]\n",
            "Output:  True\n",
            "\n"
          ]
        }
      ]
    },
    {
      "cell_type": "code",
      "source": [
        "x = 2.00000\n",
        "n = -2\n",
        "\n",
        "result = round(x ** n, 6)\n",
        "print(result)"
      ],
      "metadata": {
        "colab": {
          "base_uri": "https://localhost:8080/"
        },
        "id": "BQWRDzJMC9Bz",
        "outputId": "c3b6ac4e-36cd-4528-a807-316b94822f7a"
      },
      "execution_count": null,
      "outputs": [
        {
          "output_type": "stream",
          "name": "stdout",
          "text": [
            "0.25\n"
          ]
        }
      ]
    },
    {
      "cell_type": "code",
      "source": [
        "flower = [1, 0, 0, 0, 1]\n",
        "k = 2\n",
        "\n",
        "def func(flower, k):\n",
        "    pointer_1 = 0\n",
        "    pointer_2 = pointer_1 + 1\n",
        "    while pointer_2 < len(flower):\n",
        "        if flower[pointer_1] == flower[pointer_2] == 0:\n",
        "            flower[pointer_1] = 1\n",
        "            k -= 1\n",
        "            pointer_2 += 1\n",
        "        pointer_1 += 1\n",
        "        pointer_2 += 1\n",
        "\n",
        "    return k <= 0\n",
        "\n",
        "result = func(flower, k)\n",
        "print(result)"
      ],
      "metadata": {
        "colab": {
          "base_uri": "https://localhost:8080/"
        },
        "id": "iCRTe0OANs7G",
        "outputId": "4c07d4ca-aefd-4d3c-ea23-19ff05d2b0b2"
      },
      "execution_count": null,
      "outputs": [
        {
          "output_type": "stream",
          "name": "stdout",
          "text": [
            "False\n"
          ]
        }
      ]
    },
    {
      "cell_type": "code",
      "source": [
        "1 % 3"
      ],
      "metadata": {
        "colab": {
          "base_uri": "https://localhost:8080/"
        },
        "id": "HFybmN4OUwUK",
        "outputId": "afcdd58c-cbda-4234-b981-3caf311e0573"
      },
      "execution_count": null,
      "outputs": [
        {
          "output_type": "execute_result",
          "data": {
            "text/plain": [
              "1"
            ]
          },
          "metadata": {},
          "execution_count": 12
        }
      ]
    },
    {
      "cell_type": "code",
      "source": [
        "def fizzbuzz(n):\n",
        "  for i in range(1, n+1):\n",
        "    if i % 3 == 0 and i % 5 == 0:\n",
        "      print('FizzBuzz')\n",
        "\n",
        "    elif i % 3 == 0:\n",
        "      print('Fizz')\n",
        "\n",
        "    elif i % 5 == 0:\n",
        "      print('Buzz')\n",
        "\n",
        "    else:\n",
        "      print(i)\n",
        "\n",
        "fizzbuzz(15)"
      ],
      "metadata": {
        "id": "UBfnWL9COguh",
        "colab": {
          "base_uri": "https://localhost:8080/"
        },
        "outputId": "1f9f1f8a-0bbc-482f-9cbc-75dca747cc0a"
      },
      "execution_count": null,
      "outputs": [
        {
          "output_type": "stream",
          "name": "stdout",
          "text": [
            "1\n",
            "2\n",
            "Fizz\n",
            "4\n",
            "Buzz\n",
            "Fizz\n",
            "7\n",
            "8\n",
            "Fizz\n",
            "Buzz\n",
            "11\n",
            "Fizz\n",
            "13\n",
            "14\n",
            "FizzBuzz\n"
          ]
        }
      ]
    },
    {
      "cell_type": "code",
      "source": [
        "arr = [6, 3, -1, -1, -1, 5, 1]\n",
        "\n",
        "def prob_1(arr):\n",
        "    even = []\n",
        "    odd = []\n",
        "    main = []\n",
        "    for i in range(len(arr)):\n",
        "        if i % 2 == 0:\n",
        "            even.append(arr[i])\n",
        "        else:\n",
        "            odd.append(arr[i])\n",
        "        main.append([even.copy(), odd.copy()])\n",
        "    return even, odd, main\n",
        "\n",
        "\n",
        "prob_1(arr)"
      ],
      "metadata": {
        "colab": {
          "base_uri": "https://localhost:8080/"
        },
        "id": "kwY2H6UKi_PT",
        "outputId": "9cf3b656-29b7-4f12-8e89-007720f72c7a"
      },
      "execution_count": null,
      "outputs": [
        {
          "output_type": "execute_result",
          "data": {
            "text/plain": [
              "([6, -1, -1, 1],\n",
              " [3, -1, 5],\n",
              " [[[6], []],\n",
              "  [[6], [3]],\n",
              "  [[6, -1], [3]],\n",
              "  [[6, -1], [3, -1]],\n",
              "  [[6, -1, -1], [3, -1]],\n",
              "  [[6, -1, -1], [3, -1, 5]],\n",
              "  [[6, -1, -1, 1], [3, -1, 5]]])"
            ]
          },
          "metadata": {},
          "execution_count": 64
        }
      ]
    },
    {
      "cell_type": "code",
      "source": [
        "def prob_1_(arr):\n",
        "    even = []\n",
        "    odd = []\n",
        "    main = []\n",
        "    for i in range(len(arr)):\n",
        "        if i % 2 == 0:\n",
        "            even.append(arr[i])\n",
        "        else:\n",
        "            odd.append(arr[i])\n",
        "        main.append((sum(even) - sum(odd))**2)  # Square of the sum of even and odd\n",
        "    return even, odd, main\n",
        "prob_1_(arr)"
      ],
      "metadata": {
        "colab": {
          "base_uri": "https://localhost:8080/"
        },
        "id": "okMXABbanTkt",
        "outputId": "73007217-54ba-4e63-d1bc-08482a96fdce"
      },
      "execution_count": null,
      "outputs": [
        {
          "output_type": "execute_result",
          "data": {
            "text/plain": [
              "([6, -1, -1, 1], [3, -1, 5], [36, 9, 4, 9, 4, 9, 4])"
            ]
          },
          "metadata": {},
          "execution_count": 66
        }
      ]
    },
    {
      "cell_type": "code",
      "source": [
        "def asteroidCollision(arr):\n",
        "    stack = []\n",
        "    for asteroid in arr:\n",
        "        while stack and asteroid < 0 < stack[-1]:\n",
        "            if abs(asteroid) > stack[-1]:\n",
        "                stack.pop()\n",
        "                continue\n",
        "            elif abs(asteroid) == stack[-1]:\n",
        "                stack.pop()\n",
        "            break\n",
        "        else:\n",
        "            stack.append(asteroid)\n",
        "    return stack\n",
        "\n",
        "test_cases = [[5, 10, -5], [8, -8], [10, 2, -5]]\n",
        "\n",
        "def testcases(test_cases):\n",
        "    for case in test_cases:\n",
        "        print(asteroidCollision(case))\n",
        "\n",
        "testcases(test_cases)\n"
      ],
      "metadata": {
        "id": "8JoeHsmhDu_M",
        "colab": {
          "base_uri": "https://localhost:8080/"
        },
        "outputId": "6067e712-69a0-48c6-8d24-2bdb20e6b86f"
      },
      "execution_count": null,
      "outputs": [
        {
          "output_type": "stream",
          "name": "stdout",
          "text": [
            "[5, 10]\n",
            "[]\n",
            "[10]\n"
          ]
        }
      ]
    },
    {
      "cell_type": "code",
      "source": [
        "s = 'erase*****'\n",
        "\n",
        "def func(s):\n",
        "  stack = []\n",
        "  for i in s:\n",
        "    if i != '*':\n",
        "      stack.append(i)\n",
        "    if i == '*':\n",
        "      stack.pop()\n",
        "  return \"\".join(stack)\n",
        "\n",
        "func(s)"
      ],
      "metadata": {
        "colab": {
          "base_uri": "https://localhost:8080/",
          "height": 35
        },
        "id": "0M1F3GbQ8iem",
        "outputId": "2c0900af-b170-4ab3-f42e-da51e17922b9"
      },
      "execution_count": null,
      "outputs": [
        {
          "output_type": "execute_result",
          "data": {
            "text/plain": [
              "''"
            ],
            "application/vnd.google.colaboratory.intrinsic+json": {
              "type": "string"
            }
          },
          "metadata": {},
          "execution_count": 18
        }
      ]
    },
    {
      "cell_type": "code",
      "source": [
        "input = \"(()\"\n",
        "\n",
        "def longestValidParenthesis(input):\n",
        "  stack = []\n",
        "  for i in input:\n",
        "    if i == '(':\n",
        "      stack.append(i)\n",
        "    if i\n",
        "\n",
        "\n",
        "longestValidParenthesis(input)"
      ],
      "metadata": {
        "id": "ZVW1K3NU8ssM"
      },
      "execution_count": null,
      "outputs": []
    },
    {
      "cell_type": "code",
      "source": [
        "numbers = [2,7,11,15]\n",
        "target = 9\n",
        "\n",
        "def twoSum(numbers, target):\n",
        "    output = []\n",
        "    for i in numbers:\n",
        "        for j in numbers:\n",
        "            if i != j:\n",
        "                if numbers[i] + numbers[j] == target:\n",
        "                    output.append([i, j])\n",
        "\n",
        "\n",
        "    return output[0]\n",
        "\n",
        "\n",
        "twoSum(numbers, target)"
      ],
      "metadata": {
        "colab": {
          "base_uri": "https://localhost:8080/"
        },
        "id": "mcFlRU5m5wii",
        "outputId": "e5f9b6fe-3350-40fc-d49a-852aa41cc5bd"
      },
      "execution_count": null,
      "outputs": [
        {
          "output_type": "execute_result",
          "data": {
            "text/plain": [
              "[0, 1]"
            ]
          },
          "metadata": {},
          "execution_count": 2
        }
      ]
    }
  ],
  "metadata": {
    "colab": {
      "provenance": [],
      "include_colab_link": true
    },
    "kernelspec": {
      "display_name": "Python 3",
      "name": "python3"
    },
    "language_info": {
      "name": "python"
    }
  },
  "nbformat": 4,
  "nbformat_minor": 0
}